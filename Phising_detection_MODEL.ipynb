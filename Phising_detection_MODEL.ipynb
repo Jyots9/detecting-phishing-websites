{
  "nbformat": 4,
  "nbformat_minor": 0,
  "metadata": {
    "colab": {
      "provenance": [],
      "mount_file_id": "18VKnSf067pQJAcQznj1cIc8MDcFKsOOC",
      "authorship_tag": "ABX9TyP5gNo2uzPKB4eNGKUkqr7B"
    },
    "kernelspec": {
      "name": "python3",
      "display_name": "Python 3"
    },
    "language_info": {
      "name": "python"
    }
  },
  "cells": [
    {
      "cell_type": "markdown",
      "source": [
        "# WORKING WITH RESULTANT DATA"
      ],
      "metadata": {
        "id": "iYrUZJYja1qV"
      }
    },
    {
      "cell_type": "code",
      "execution_count": 17,
      "metadata": {
        "id": "3hM-zc59ykha"
      },
      "outputs": [],
      "source": [
        "import pandas as pd\n",
        "import numpy as np\n",
        "import seaborn as sns\n",
        "import matplotlib.pyplot as plt\n",
        "from sklearn.metrics import classification_report, confusion_matrix, roc_auc_score"
      ]
    },
    {
      "cell_type": "code",
      "source": [
        "ds = pd.read_csv('/content/drive/MyDrive/Colab Notebooks/Datasets/final_data.csv')\n",
        "ds.head()"
      ],
      "metadata": {
        "id": "arUkBmVbyl5J",
        "colab": {
          "base_uri": "https://localhost:8080/",
          "height": 270
        },
        "outputId": "ad54a0d0-95cb-48d9-d412-2846355e189b"
      },
      "execution_count": 18,
      "outputs": [
        {
          "output_type": "execute_result",
          "data": {
            "text/plain": [
              "   URLs        Domain  Have_IP  Have_At  URL_Length  URL_Depth  Redirection  \\\n",
              "0     0  torcache.net        0        0           1          2            0   \n",
              "1     0     kenh14.vn        0        0           1          2            0   \n",
              "2     0    kakaku.com        0        0           1          6            0   \n",
              "3     0     kenh14.vn        0        0           1          2            0   \n",
              "4     0   plarium.com        0        0           1          5            0   \n",
              "\n",
              "   https_Domain  TinyURL  Prefix/Suffix  DNS_Record  Web_Traffic  Domain_Age  \\\n",
              "0             0        0              0           0            0           1   \n",
              "1             0        0              0           0            0           1   \n",
              "2             0        0              0           0            0           0   \n",
              "3             0        0              0           0            0           1   \n",
              "4             0        0              0           0            0           1   \n",
              "\n",
              "   Domain_End  iFrame  Mouse_Over  Right_Click  Web_Forwards  Label  \n",
              "0           1       0           1            1             0      0  \n",
              "1           1       0           1            1             0      0  \n",
              "2           0       0           1            1             0      0  \n",
              "3           1       0           1            1             0      0  \n",
              "4           1       1           1            1             1      0  "
            ],
            "text/html": [
              "\n",
              "  <div id=\"df-b9160363-4579-43de-a6d3-c2a266bf4ff3\">\n",
              "    <div class=\"colab-df-container\">\n",
              "      <div>\n",
              "<style scoped>\n",
              "    .dataframe tbody tr th:only-of-type {\n",
              "        vertical-align: middle;\n",
              "    }\n",
              "\n",
              "    .dataframe tbody tr th {\n",
              "        vertical-align: top;\n",
              "    }\n",
              "\n",
              "    .dataframe thead th {\n",
              "        text-align: right;\n",
              "    }\n",
              "</style>\n",
              "<table border=\"1\" class=\"dataframe\">\n",
              "  <thead>\n",
              "    <tr style=\"text-align: right;\">\n",
              "      <th></th>\n",
              "      <th>URLs</th>\n",
              "      <th>Domain</th>\n",
              "      <th>Have_IP</th>\n",
              "      <th>Have_At</th>\n",
              "      <th>URL_Length</th>\n",
              "      <th>URL_Depth</th>\n",
              "      <th>Redirection</th>\n",
              "      <th>https_Domain</th>\n",
              "      <th>TinyURL</th>\n",
              "      <th>Prefix/Suffix</th>\n",
              "      <th>DNS_Record</th>\n",
              "      <th>Web_Traffic</th>\n",
              "      <th>Domain_Age</th>\n",
              "      <th>Domain_End</th>\n",
              "      <th>iFrame</th>\n",
              "      <th>Mouse_Over</th>\n",
              "      <th>Right_Click</th>\n",
              "      <th>Web_Forwards</th>\n",
              "      <th>Label</th>\n",
              "    </tr>\n",
              "  </thead>\n",
              "  <tbody>\n",
              "    <tr>\n",
              "      <th>0</th>\n",
              "      <td>0</td>\n",
              "      <td>torcache.net</td>\n",
              "      <td>0</td>\n",
              "      <td>0</td>\n",
              "      <td>1</td>\n",
              "      <td>2</td>\n",
              "      <td>0</td>\n",
              "      <td>0</td>\n",
              "      <td>0</td>\n",
              "      <td>0</td>\n",
              "      <td>0</td>\n",
              "      <td>0</td>\n",
              "      <td>1</td>\n",
              "      <td>1</td>\n",
              "      <td>0</td>\n",
              "      <td>1</td>\n",
              "      <td>1</td>\n",
              "      <td>0</td>\n",
              "      <td>0</td>\n",
              "    </tr>\n",
              "    <tr>\n",
              "      <th>1</th>\n",
              "      <td>0</td>\n",
              "      <td>kenh14.vn</td>\n",
              "      <td>0</td>\n",
              "      <td>0</td>\n",
              "      <td>1</td>\n",
              "      <td>2</td>\n",
              "      <td>0</td>\n",
              "      <td>0</td>\n",
              "      <td>0</td>\n",
              "      <td>0</td>\n",
              "      <td>0</td>\n",
              "      <td>0</td>\n",
              "      <td>1</td>\n",
              "      <td>1</td>\n",
              "      <td>0</td>\n",
              "      <td>1</td>\n",
              "      <td>1</td>\n",
              "      <td>0</td>\n",
              "      <td>0</td>\n",
              "    </tr>\n",
              "    <tr>\n",
              "      <th>2</th>\n",
              "      <td>0</td>\n",
              "      <td>kakaku.com</td>\n",
              "      <td>0</td>\n",
              "      <td>0</td>\n",
              "      <td>1</td>\n",
              "      <td>6</td>\n",
              "      <td>0</td>\n",
              "      <td>0</td>\n",
              "      <td>0</td>\n",
              "      <td>0</td>\n",
              "      <td>0</td>\n",
              "      <td>0</td>\n",
              "      <td>0</td>\n",
              "      <td>0</td>\n",
              "      <td>0</td>\n",
              "      <td>1</td>\n",
              "      <td>1</td>\n",
              "      <td>0</td>\n",
              "      <td>0</td>\n",
              "    </tr>\n",
              "    <tr>\n",
              "      <th>3</th>\n",
              "      <td>0</td>\n",
              "      <td>kenh14.vn</td>\n",
              "      <td>0</td>\n",
              "      <td>0</td>\n",
              "      <td>1</td>\n",
              "      <td>2</td>\n",
              "      <td>0</td>\n",
              "      <td>0</td>\n",
              "      <td>0</td>\n",
              "      <td>0</td>\n",
              "      <td>0</td>\n",
              "      <td>0</td>\n",
              "      <td>1</td>\n",
              "      <td>1</td>\n",
              "      <td>0</td>\n",
              "      <td>1</td>\n",
              "      <td>1</td>\n",
              "      <td>0</td>\n",
              "      <td>0</td>\n",
              "    </tr>\n",
              "    <tr>\n",
              "      <th>4</th>\n",
              "      <td>0</td>\n",
              "      <td>plarium.com</td>\n",
              "      <td>0</td>\n",
              "      <td>0</td>\n",
              "      <td>1</td>\n",
              "      <td>5</td>\n",
              "      <td>0</td>\n",
              "      <td>0</td>\n",
              "      <td>0</td>\n",
              "      <td>0</td>\n",
              "      <td>0</td>\n",
              "      <td>0</td>\n",
              "      <td>1</td>\n",
              "      <td>1</td>\n",
              "      <td>1</td>\n",
              "      <td>1</td>\n",
              "      <td>1</td>\n",
              "      <td>1</td>\n",
              "      <td>0</td>\n",
              "    </tr>\n",
              "  </tbody>\n",
              "</table>\n",
              "</div>\n",
              "      <button class=\"colab-df-convert\" onclick=\"convertToInteractive('df-b9160363-4579-43de-a6d3-c2a266bf4ff3')\"\n",
              "              title=\"Convert this dataframe to an interactive table.\"\n",
              "              style=\"display:none;\">\n",
              "        \n",
              "  <svg xmlns=\"http://www.w3.org/2000/svg\" height=\"24px\"viewBox=\"0 0 24 24\"\n",
              "       width=\"24px\">\n",
              "    <path d=\"M0 0h24v24H0V0z\" fill=\"none\"/>\n",
              "    <path d=\"M18.56 5.44l.94 2.06.94-2.06 2.06-.94-2.06-.94-.94-2.06-.94 2.06-2.06.94zm-11 1L8.5 8.5l.94-2.06 2.06-.94-2.06-.94L8.5 2.5l-.94 2.06-2.06.94zm10 10l.94 2.06.94-2.06 2.06-.94-2.06-.94-.94-2.06-.94 2.06-2.06.94z\"/><path d=\"M17.41 7.96l-1.37-1.37c-.4-.4-.92-.59-1.43-.59-.52 0-1.04.2-1.43.59L10.3 9.45l-7.72 7.72c-.78.78-.78 2.05 0 2.83L4 21.41c.39.39.9.59 1.41.59.51 0 1.02-.2 1.41-.59l7.78-7.78 2.81-2.81c.8-.78.8-2.07 0-2.86zM5.41 20L4 18.59l7.72-7.72 1.47 1.35L5.41 20z\"/>\n",
              "  </svg>\n",
              "      </button>\n",
              "      \n",
              "  <style>\n",
              "    .colab-df-container {\n",
              "      display:flex;\n",
              "      flex-wrap:wrap;\n",
              "      gap: 12px;\n",
              "    }\n",
              "\n",
              "    .colab-df-convert {\n",
              "      background-color: #E8F0FE;\n",
              "      border: none;\n",
              "      border-radius: 50%;\n",
              "      cursor: pointer;\n",
              "      display: none;\n",
              "      fill: #1967D2;\n",
              "      height: 32px;\n",
              "      padding: 0 0 0 0;\n",
              "      width: 32px;\n",
              "    }\n",
              "\n",
              "    .colab-df-convert:hover {\n",
              "      background-color: #E2EBFA;\n",
              "      box-shadow: 0px 1px 2px rgba(60, 64, 67, 0.3), 0px 1px 3px 1px rgba(60, 64, 67, 0.15);\n",
              "      fill: #174EA6;\n",
              "    }\n",
              "\n",
              "    [theme=dark] .colab-df-convert {\n",
              "      background-color: #3B4455;\n",
              "      fill: #D2E3FC;\n",
              "    }\n",
              "\n",
              "    [theme=dark] .colab-df-convert:hover {\n",
              "      background-color: #434B5C;\n",
              "      box-shadow: 0px 1px 3px 1px rgba(0, 0, 0, 0.15);\n",
              "      filter: drop-shadow(0px 1px 2px rgba(0, 0, 0, 0.3));\n",
              "      fill: #FFFFFF;\n",
              "    }\n",
              "  </style>\n",
              "\n",
              "      <script>\n",
              "        const buttonEl =\n",
              "          document.querySelector('#df-b9160363-4579-43de-a6d3-c2a266bf4ff3 button.colab-df-convert');\n",
              "        buttonEl.style.display =\n",
              "          google.colab.kernel.accessAllowed ? 'block' : 'none';\n",
              "\n",
              "        async function convertToInteractive(key) {\n",
              "          const element = document.querySelector('#df-b9160363-4579-43de-a6d3-c2a266bf4ff3');\n",
              "          const dataTable =\n",
              "            await google.colab.kernel.invokeFunction('convertToInteractive',\n",
              "                                                     [key], {});\n",
              "          if (!dataTable) return;\n",
              "\n",
              "          const docLinkHtml = 'Like what you see? Visit the ' +\n",
              "            '<a target=\"_blank\" href=https://colab.research.google.com/notebooks/data_table.ipynb>data table notebook</a>'\n",
              "            + ' to learn more about interactive tables.';\n",
              "          element.innerHTML = '';\n",
              "          dataTable['output_type'] = 'display_data';\n",
              "          await google.colab.output.renderOutput(dataTable, element);\n",
              "          const docLink = document.createElement('div');\n",
              "          docLink.innerHTML = docLinkHtml;\n",
              "          element.appendChild(docLink);\n",
              "        }\n",
              "      </script>\n",
              "    </div>\n",
              "  </div>\n",
              "  "
            ]
          },
          "metadata": {},
          "execution_count": 18
        }
      ]
    },
    {
      "cell_type": "markdown",
      "source": [
        "UNDERSTANDING THE DATASET"
      ],
      "metadata": {
        "id": "MtyI7dLRbX_a"
      }
    },
    {
      "cell_type": "code",
      "source": [
        "ds.info()"
      ],
      "metadata": {
        "id": "YgAA58WyyrzY",
        "colab": {
          "base_uri": "https://localhost:8080/"
        },
        "outputId": "ffac598f-c26a-4ca4-ffe2-50371d78cf4d"
      },
      "execution_count": 19,
      "outputs": [
        {
          "output_type": "stream",
          "name": "stdout",
          "text": [
            "<class 'pandas.core.frame.DataFrame'>\n",
            "RangeIndex: 3000 entries, 0 to 2999\n",
            "Data columns (total 19 columns):\n",
            " #   Column         Non-Null Count  Dtype \n",
            "---  ------         --------------  ----- \n",
            " 0   URLs           3000 non-null   int64 \n",
            " 1   Domain         3000 non-null   object\n",
            " 2   Have_IP        3000 non-null   int64 \n",
            " 3   Have_At        3000 non-null   int64 \n",
            " 4   URL_Length     3000 non-null   int64 \n",
            " 5   URL_Depth      3000 non-null   int64 \n",
            " 6   Redirection    3000 non-null   int64 \n",
            " 7   https_Domain   3000 non-null   int64 \n",
            " 8   TinyURL        3000 non-null   int64 \n",
            " 9   Prefix/Suffix  3000 non-null   int64 \n",
            " 10  DNS_Record     3000 non-null   int64 \n",
            " 11  Web_Traffic    3000 non-null   int64 \n",
            " 12  Domain_Age     3000 non-null   int64 \n",
            " 13  Domain_End     3000 non-null   int64 \n",
            " 14  iFrame         3000 non-null   int64 \n",
            " 15  Mouse_Over     3000 non-null   int64 \n",
            " 16  Right_Click    3000 non-null   int64 \n",
            " 17  Web_Forwards   3000 non-null   int64 \n",
            " 18  Label          3000 non-null   int64 \n",
            "dtypes: int64(18), object(1)\n",
            "memory usage: 445.4+ KB\n"
          ]
        }
      ]
    },
    {
      "cell_type": "code",
      "source": [
        "ds.hist(bins = 50,figsize = (15,15))\n",
        "plt.show()"
      ],
      "metadata": {
        "id": "tGplBR2Wywqq",
        "colab": {
          "base_uri": "https://localhost:8080/",
          "height": 879
        },
        "outputId": "21a8dbe8-4755-4d02-cbd5-05fbc0aff391"
      },
      "execution_count": 20,
      "outputs": [
        {
          "output_type": "display_data",
          "data": {
            "text/plain": [
              "<Figure size 1080x1080 with 20 Axes>"
            ],
            "image/png": "[encoded data removed]"
          },
          "metadata": {
            "needs_background": "light"
          }
        }
      ]
    },
    {
      "cell_type": "code",
      "source": [
        "plt.figure(figsize=(15,13))\n",
        "sns.heatmap(ds.corr())\n",
        "plt.show()"
      ],
      "metadata": {
        "id": "4JqwxWqXy8IC",
        "colab": {
          "base_uri": "https://localhost:8080/",
          "height": 821
        },
        "outputId": "529ec35c-9bb1-46c3-e6c7-d0b1956336d4"
      },
      "execution_count": 21,
      "outputs": [
        {
          "output_type": "display_data",
          "data": {
            "text/plain": [
              "<Figure size 1080x936 with 2 Axes>"
            ],
            "image/png": "[encoded data removed]"
          },
          "metadata": {
            "needs_background": "light"
          }
        }
      ]
    },
    {
      "cell_type": "code",
      "source": [
        "dsph=ds.drop(['Domain','URLs'], axis = 1).copy()"
      ],
      "metadata": {
        "id": "6fU1R4b4z_RW"
      },
      "execution_count": 22,
      "outputs": []
    },
    {
      "cell_type": "code",
      "source": [
        "dsph.describe()"
      ],
      "metadata": {
        "id": "6lda4lQQ0ErZ",
        "colab": {
          "base_uri": "https://localhost:8080/",
          "height": 364
        },
        "outputId": "a0e11480-09bf-4acb-994f-b92a07101ed0"
      },
      "execution_count": 23,
      "outputs": [
        {
          "output_type": "execute_result",
          "data": {
            "text/plain": [
              "       Have_IP      Have_At   URL_Length    URL_Depth  Redirection  \\\n",
              "count   3000.0  3000.000000  3000.000000  3000.000000  3000.000000   \n",
              "mean       0.0     0.002333     0.829667     3.007000     0.041667   \n",
              "std        0.0     0.048256     0.375988     1.951637     0.199860   \n",
              "min        0.0     0.000000     0.000000     0.000000     0.000000   \n",
              "25%        0.0     0.000000     1.000000     2.000000     0.000000   \n",
              "50%        0.0     0.000000     1.000000     3.000000     0.000000   \n",
              "75%        0.0     0.000000     1.000000     4.000000     0.000000   \n",
              "max        0.0     1.000000     1.000000    14.000000     1.000000   \n",
              "\n",
              "       https_Domain      TinyURL  Prefix/Suffix   DNS_Record  Web_Traffic  \\\n",
              "count   3000.000000  3000.000000    3000.000000  3000.000000       3000.0   \n",
              "mean       0.000333     0.069333       0.114667     0.144333          0.0   \n",
              "std        0.018257     0.254062       0.318672     0.351486          0.0   \n",
              "min        0.000000     0.000000       0.000000     0.000000          0.0   \n",
              "25%        0.000000     0.000000       0.000000     0.000000          0.0   \n",
              "50%        0.000000     0.000000       0.000000     0.000000          0.0   \n",
              "75%        0.000000     0.000000       0.000000     0.000000          0.0   \n",
              "max        1.000000     1.000000       1.000000     1.000000          0.0   \n",
              "\n",
              "        Domain_Age   Domain_End       iFrame  Mouse_Over  Right_Click  \\\n",
              "count  3000.000000  3000.000000  3000.000000      3000.0  3000.000000   \n",
              "mean      0.616000     0.873333     0.675000         1.0     0.999667   \n",
              "std       0.486439     0.332655     0.468453         0.0     0.018257   \n",
              "min       0.000000     0.000000     0.000000         1.0     0.000000   \n",
              "25%       0.000000     1.000000     0.000000         1.0     1.000000   \n",
              "50%       1.000000     1.000000     1.000000         1.0     1.000000   \n",
              "75%       1.000000     1.000000     1.000000         1.0     1.000000   \n",
              "max       1.000000     1.000000     1.000000         1.0     1.000000   \n",
              "\n",
              "       Web_Forwards        Label  \n",
              "count   3000.000000  3000.000000  \n",
              "mean       0.650000     0.500000  \n",
              "std        0.477049     0.500083  \n",
              "min        0.000000     0.000000  \n",
              "25%        0.000000     0.000000  \n",
              "50%        1.000000     0.500000  \n",
              "75%        1.000000     1.000000  \n",
              "max        1.000000     1.000000  "
            ],
            "text/html": [
              "\n",
              "  <div id=\"df-edc5580f-7db1-4df7-a2a2-cdaa2ff99e61\">\n",
              "    <div class=\"colab-df-container\">\n",
              "      <div>\n",
              "<style scoped>\n",
              "    .dataframe tbody tr th:only-of-type {\n",
              "        vertical-align: middle;\n",
              "    }\n",
              "\n",
              "    .dataframe tbody tr th {\n",
              "        vertical-align: top;\n",
              "    }\n",
              "\n",
              "    .dataframe thead th {\n",
              "        text-align: right;\n",
              "    }\n",
              "</style>\n",
              "<table border=\"1\" class=\"dataframe\">\n",
              "  <thead>\n",
              "    <tr style=\"text-align: right;\">\n",
              "      <th></th>\n",
              "      <th>Have_IP</th>\n",
              "      <th>Have_At</th>\n",
              "      <th>URL_Length</th>\n",
              "      <th>URL_Depth</th>\n",
              "      <th>Redirection</th>\n",
              "      <th>https_Domain</th>\n",
              "      <th>TinyURL</th>\n",
              "      <th>Prefix/Suffix</th>\n",
              "      <th>DNS_Record</th>\n",
              "      <th>Web_Traffic</th>\n",
              "      <th>Domain_Age</th>\n",
              "      <th>Domain_End</th>\n",
              "      <th>iFrame</th>\n",
              "      <th>Mouse_Over</th>\n",
              "      <th>Right_Click</th>\n",
              "      <th>Web_Forwards</th>\n",
              "      <th>Label</th>\n",
              "    </tr>\n",
              "  </thead>\n",
              "  <tbody>\n",
              "    <tr>\n",
              "      <th>count</th>\n",
              "      <td>3000.0</td>\n",
              "      <td>3000.000000</td>\n",
              "      <td>3000.000000</td>\n",
              "      <td>3000.000000</td>\n",
              "      <td>3000.000000</td>\n",
              "      <td>3000.000000</td>\n",
              "      <td>3000.000000</td>\n",
              "      <td>3000.000000</td>\n",
              "      <td>3000.000000</td>\n",
              "      <td>3000.0</td>\n",
              "      <td>3000.000000</td>\n",
              "      <td>3000.000000</td>\n",
              "      <td>3000.000000</td>\n",
              "      <td>3000.0</td>\n",
              "      <td>3000.000000</td>\n",
              "      <td>3000.000000</td>\n",
              "      <td>3000.000000</td>\n",
              "    </tr>\n",
              "    <tr>\n",
              "      <th>mean</th>\n",
              "      <td>0.0</td>\n",
              "      <td>0.002333</td>\n",
              "      <td>0.829667</td>\n",
              "      <td>3.007000</td>\n",
              "      <td>0.041667</td>\n",
              "      <td>0.000333</td>\n",
              "      <td>0.069333</td>\n",
              "      <td>0.114667</td>\n",
              "      <td>0.144333</td>\n",
              "      <td>0.0</td>\n",
              "      <td>0.616000</td>\n",
              "      <td>0.873333</td>\n",
              "      <td>0.675000</td>\n",
              "      <td>1.0</td>\n",
              "      <td>0.999667</td>\n",
              "      <td>0.650000</td>\n",
              "      <td>0.500000</td>\n",
              "    </tr>\n",
              "    <tr>\n",
              "      <th>std</th>\n",
              "      <td>0.0</td>\n",
              "      <td>0.048256</td>\n",
              "      <td>0.375988</td>\n",
              "      <td>1.951637</td>\n",
              "      <td>0.199860</td>\n",
              "      <td>0.018257</td>\n",
              "      <td>0.254062</td>\n",
              "      <td>0.318672</td>\n",
              "      <td>0.351486</td>\n",
              "      <td>0.0</td>\n",
              "      <td>0.486439</td>\n",
              "      <td>0.332655</td>\n",
              "      <td>0.468453</td>\n",
              "      <td>0.0</td>\n",
              "      <td>0.018257</td>\n",
              "      <td>0.477049</td>\n",
              "      <td>0.500083</td>\n",
              "    </tr>\n",
              "    <tr>\n",
              "      <th>min</th>\n",
              "      <td>0.0</td>\n",
              "      <td>0.000000</td>\n",
              "      <td>0.000000</td>\n",
              "      <td>0.000000</td>\n",
              "      <td>0.000000</td>\n",
              "      <td>0.000000</td>\n",
              "      <td>0.000000</td>\n",
              "      <td>0.000000</td>\n",
              "      <td>0.000000</td>\n",
              "      <td>0.0</td>\n",
              "      <td>0.000000</td>\n",
              "      <td>0.000000</td>\n",
              "      <td>0.000000</td>\n",
              "      <td>1.0</td>\n",
              "      <td>0.000000</td>\n",
              "      <td>0.000000</td>\n",
              "      <td>0.000000</td>\n",
              "    </tr>\n",
              "    <tr>\n",
              "      <th>25%</th>\n",
              "      <td>0.0</td>\n",
              "      <td>0.000000</td>\n",
              "      <td>1.000000</td>\n",
              "      <td>2.000000</td>\n",
              "      <td>0.000000</td>\n",
              "      <td>0.000000</td>\n",
              "      <td>0.000000</td>\n",
              "      <td>0.000000</td>\n",
              "      <td>0.000000</td>\n",
              "      <td>0.0</td>\n",
              "      <td>0.000000</td>\n",
              "      <td>1.000000</td>\n",
              "      <td>0.000000</td>\n",
              "      <td>1.0</td>\n",
              "      <td>1.000000</td>\n",
              "      <td>0.000000</td>\n",
              "      <td>0.000000</td>\n",
              "    </tr>\n",
              "    <tr>\n",
              "      <th>50%</th>\n",
              "      <td>0.0</td>\n",
              "      <td>0.000000</td>\n",
              "      <td>1.000000</td>\n",
              "      <td>3.000000</td>\n",
              "      <td>0.000000</td>\n",
              "      <td>0.000000</td>\n",
              "      <td>0.000000</td>\n",
              "      <td>0.000000</td>\n",
              "      <td>0.000000</td>\n",
              "      <td>0.0</td>\n",
              "      <td>1.000000</td>\n",
              "      <td>1.000000</td>\n",
              "      <td>1.000000</td>\n",
              "      <td>1.0</td>\n",
              "      <td>1.000000</td>\n",
              "      <td>1.000000</td>\n",
              "      <td>0.500000</td>\n",
              "    </tr>\n",
              "    <tr>\n",
              "      <th>75%</th>\n",
              "      <td>0.0</td>\n",
              "      <td>0.000000</td>\n",
              "      <td>1.000000</td>\n",
              "      <td>4.000000</td>\n",
              "      <td>0.000000</td>\n",
              "      <td>0.000000</td>\n",
              "      <td>0.000000</td>\n",
              "      <td>0.000000</td>\n",
              "      <td>0.000000</td>\n",
              "      <td>0.0</td>\n",
              "      <td>1.000000</td>\n",
              "      <td>1.000000</td>\n",
              "      <td>1.000000</td>\n",
              "      <td>1.0</td>\n",
              "      <td>1.000000</td>\n",
              "      <td>1.000000</td>\n",
              "      <td>1.000000</td>\n",
              "    </tr>\n",
              "    <tr>\n",
              "      <th>max</th>\n",
              "      <td>0.0</td>\n",
              "      <td>1.000000</td>\n",
              "      <td>1.000000</td>\n",
              "      <td>14.000000</td>\n",
              "      <td>1.000000</td>\n",
              "      <td>1.000000</td>\n",
              "      <td>1.000000</td>\n",
              "      <td>1.000000</td>\n",
              "      <td>1.000000</td>\n",
              "      <td>0.0</td>\n",
              "      <td>1.000000</td>\n",
              "      <td>1.000000</td>\n",
              "      <td>1.000000</td>\n",
              "      <td>1.0</td>\n",
              "      <td>1.000000</td>\n",
              "      <td>1.000000</td>\n",
              "      <td>1.000000</td>\n",
              "    </tr>\n",
              "  </tbody>\n",
              "</table>\n",
              "</div>\n",
              "      <button class=\"colab-df-convert\" onclick=\"convertToInteractive('df-edc5580f-7db1-4df7-a2a2-cdaa2ff99e61')\"\n",
              "              title=\"Convert this dataframe to an interactive table.\"\n",
              "              style=\"display:none;\">\n",
              "        \n",
              "  <svg xmlns=\"http://www.w3.org/2000/svg\" height=\"24px\"viewBox=\"0 0 24 24\"\n",
              "       width=\"24px\">\n",
              "    <path d=\"M0 0h24v24H0V0z\" fill=\"none\"/>\n",
              "    <path d=\"M18.56 5.44l.94 2.06.94-2.06 2.06-.94-2.06-.94-.94-2.06-.94 2.06-2.06.94zm-11 1L8.5 8.5l.94-2.06 2.06-.94-2.06-.94L8.5 2.5l-.94 2.06-2.06.94zm10 10l.94 2.06.94-2.06 2.06-.94-2.06-.94-.94-2.06-.94 2.06-2.06.94z\"/><path d=\"M17.41 7.96l-1.37-1.37c-.4-.4-.92-.59-1.43-.59-.52 0-1.04.2-1.43.59L10.3 9.45l-7.72 7.72c-.78.78-.78 2.05 0 2.83L4 21.41c.39.39.9.59 1.41.59.51 0 1.02-.2 1.41-.59l7.78-7.78 2.81-2.81c.8-.78.8-2.07 0-2.86zM5.41 20L4 18.59l7.72-7.72 1.47 1.35L5.41 20z\"/>\n",
              "  </svg>\n",
              "      </button>\n",
              "      \n",
              "  <style>\n",
              "    .colab-df-container {\n",
              "      display:flex;\n",
              "      flex-wrap:wrap;\n",
              "      gap: 12px;\n",
              "    }\n",
              "\n",
              "    .colab-df-convert {\n",
              "      background-color: #E8F0FE;\n",
              "      border: none;\n",
              "      border-radius: 50%;\n",
              "      cursor: pointer;\n",
              "      display: none;\n",
              "      fill: #1967D2;\n",
              "      height: 32px;\n",
              "      padding: 0 0 0 0;\n",
              "      width: 32px;\n",
              "    }\n",
              "\n",
              "    .colab-df-convert:hover {\n",
              "      background-color: #E2EBFA;\n",
              "      box-shadow: 0px 1px 2px rgba(60, 64, 67, 0.3), 0px 1px 3px 1px rgba(60, 64, 67, 0.15);\n",
              "      fill: #174EA6;\n",
              "    }\n",
              "\n",
              "    [theme=dark] .colab-df-convert {\n",
              "      background-color: #3B4455;\n",
              "      fill: #D2E3FC;\n",
              "    }\n",
              "\n",
              "    [theme=dark] .colab-df-convert:hover {\n",
              "      background-color: #434B5C;\n",
              "      box-shadow: 0px 1px 3px 1px rgba(0, 0, 0, 0.15);\n",
              "      filter: drop-shadow(0px 1px 2px rgba(0, 0, 0, 0.3));\n",
              "      fill: #FFFFFF;\n",
              "    }\n",
              "  </style>\n",
              "\n",
              "      <script>\n",
              "        const buttonEl =\n",
              "          document.querySelector('#df-edc5580f-7db1-4df7-a2a2-cdaa2ff99e61 button.colab-df-convert');\n",
              "        buttonEl.style.display =\n",
              "          google.colab.kernel.accessAllowed ? 'block' : 'none';\n",
              "\n",
              "        async function convertToInteractive(key) {\n",
              "          const element = document.querySelector('#df-edc5580f-7db1-4df7-a2a2-cdaa2ff99e61');\n",
              "          const dataTable =\n",
              "            await google.colab.kernel.invokeFunction('convertToInteractive',\n",
              "                                                     [key], {});\n",
              "          if (!dataTable) return;\n",
              "\n",
              "          const docLinkHtml = 'Like what you see? Visit the ' +\n",
              "            '<a target=\"_blank\" href=https://colab.research.google.com/notebooks/data_table.ipynb>data table notebook</a>'\n",
              "            + ' to learn more about interactive tables.';\n",
              "          element.innerHTML = '';\n",
              "          dataTable['output_type'] = 'display_data';\n",
              "          await google.colab.output.renderOutput(dataTable, element);\n",
              "          const docLink = document.createElement('div');\n",
              "          docLink.innerHTML = docLinkHtml;\n",
              "          element.appendChild(docLink);\n",
              "        }\n",
              "      </script>\n",
              "    </div>\n",
              "  </div>\n",
              "  "
            ]
          },
          "metadata": {},
          "execution_count": 23
        }
      ]
    },
    {
      "cell_type": "code",
      "source": [
        "dsph.isnull().sum()"
      ],
      "metadata": {
        "id": "EoV5YtuT0I6a",
        "colab": {
          "base_uri": "https://localhost:8080/"
        },
        "outputId": "8ab18fdd-59e4-4689-90c2-33b35409b710"
      },
      "execution_count": 24,
      "outputs": [
        {
          "output_type": "execute_result",
          "data": {
            "text/plain": [
              "Have_IP          0\n",
              "Have_At          0\n",
              "URL_Length       0\n",
              "URL_Depth        0\n",
              "Redirection      0\n",
              "https_Domain     0\n",
              "TinyURL          0\n",
              "Prefix/Suffix    0\n",
              "DNS_Record       0\n",
              "Web_Traffic      0\n",
              "Domain_Age       0\n",
              "Domain_End       0\n",
              "iFrame           0\n",
              "Mouse_Over       0\n",
              "Right_Click      0\n",
              "Web_Forwards     0\n",
              "Label            0\n",
              "dtype: int64"
            ]
          },
          "metadata": {},
          "execution_count": 24
        }
      ]
    },
    {
      "cell_type": "code",
      "source": [
        "data = dsph.sample(frac=1).reset_index(drop=True)\n",
        "data.head()"
      ],
      "metadata": {
        "id": "vjgUclga0OgY",
        "colab": {
          "base_uri": "https://localhost:8080/",
          "height": 270
        },
        "outputId": "0987427c-c379-4885-b938-6938f713a9ac"
      },
      "execution_count": 25,
      "outputs": [
        {
          "output_type": "execute_result",
          "data": {
            "text/plain": [
              "   Have_IP  Have_At  URL_Length  URL_Depth  Redirection  https_Domain  \\\n",
              "0        0        1           1          2            0             0   \n",
              "1        0        0           0          3            0             0   \n",
              "2        0        0           1          1            1             0   \n",
              "3        0        0           1          3            0             0   \n",
              "4        0        0           1          3            0             0   \n",
              "\n",
              "   TinyURL  Prefix/Suffix  DNS_Record  Web_Traffic  Domain_Age  Domain_End  \\\n",
              "0        0              0           0            0           0           0   \n",
              "1        0              0           0            0           1           1   \n",
              "2        0              0           0            0           0           1   \n",
              "3        0              0           0            0           0           1   \n",
              "4        0              0           0            0           1           1   \n",
              "\n",
              "   iFrame  Mouse_Over  Right_Click  Web_Forwards  Label  \n",
              "0       0           1            1             0      0  \n",
              "1       1           1            1             1      1  \n",
              "2       1           1            1             1      1  \n",
              "3       1           1            1             1      0  \n",
              "4       0           1            1             0      0  "
            ],
            "text/html": [
              "\n",
              "  <div id=\"df-b0ac96b5-b423-45d5-9ee0-7633d4635efc\">\n",
              "    <div class=\"colab-df-container\">\n",
              "      <div>\n",
              "<style scoped>\n",
              "    .dataframe tbody tr th:only-of-type {\n",
              "        vertical-align: middle;\n",
              "    }\n",
              "\n",
              "    .dataframe tbody tr th {\n",
              "        vertical-align: top;\n",
              "    }\n",
              "\n",
              "    .dataframe thead th {\n",
              "        text-align: right;\n",
              "    }\n",
              "</style>\n",
              "<table border=\"1\" class=\"dataframe\">\n",
              "  <thead>\n",
              "    <tr style=\"text-align: right;\">\n",
              "      <th></th>\n",
              "      <th>Have_IP</th>\n",
              "      <th>Have_At</th>\n",
              "      <th>URL_Length</th>\n",
              "      <th>URL_Depth</th>\n",
              "      <th>Redirection</th>\n",
              "      <th>https_Domain</th>\n",
              "      <th>TinyURL</th>\n",
              "      <th>Prefix/Suffix</th>\n",
              "      <th>DNS_Record</th>\n",
              "      <th>Web_Traffic</th>\n",
              "      <th>Domain_Age</th>\n",
              "      <th>Domain_End</th>\n",
              "      <th>iFrame</th>\n",
              "      <th>Mouse_Over</th>\n",
              "      <th>Right_Click</th>\n",
              "      <th>Web_Forwards</th>\n",
              "      <th>Label</th>\n",
              "    </tr>\n",
              "  </thead>\n",
              "  <tbody>\n",
              "    <tr>\n",
              "      <th>0</th>\n",
              "      <td>0</td>\n",
              "      <td>1</td>\n",
              "      <td>1</td>\n",
              "      <td>2</td>\n",
              "      <td>0</td>\n",
              "      <td>0</td>\n",
              "      <td>0</td>\n",
              "      <td>0</td>\n",
              "      <td>0</td>\n",
              "      <td>0</td>\n",
              "      <td>0</td>\n",
              "      <td>0</td>\n",
              "      <td>0</td>\n",
              "      <td>1</td>\n",
              "      <td>1</td>\n",
              "      <td>0</td>\n",
              "      <td>0</td>\n",
              "    </tr>\n",
              "    <tr>\n",
              "      <th>1</th>\n",
              "      <td>0</td>\n",
              "      <td>0</td>\n",
              "      <td>0</td>\n",
              "      <td>3</td>\n",
              "      <td>0</td>\n",
              "      <td>0</td>\n",
              "      <td>0</td>\n",
              "      <td>0</td>\n",
              "      <td>0</td>\n",
              "      <td>0</td>\n",
              "      <td>1</td>\n",
              "      <td>1</td>\n",
              "      <td>1</td>\n",
              "      <td>1</td>\n",
              "      <td>1</td>\n",
              "      <td>1</td>\n",
              "      <td>1</td>\n",
              "    </tr>\n",
              "    <tr>\n",
              "      <th>2</th>\n",
              "      <td>0</td>\n",
              "      <td>0</td>\n",
              "      <td>1</td>\n",
              "      <td>1</td>\n",
              "      <td>1</td>\n",
              "      <td>0</td>\n",
              "      <td>0</td>\n",
              "      <td>0</td>\n",
              "      <td>0</td>\n",
              "      <td>0</td>\n",
              "      <td>0</td>\n",
              "      <td>1</td>\n",
              "      <td>1</td>\n",
              "      <td>1</td>\n",
              "      <td>1</td>\n",
              "      <td>1</td>\n",
              "      <td>1</td>\n",
              "    </tr>\n",
              "    <tr>\n",
              "      <th>3</th>\n",
              "      <td>0</td>\n",
              "      <td>0</td>\n",
              "      <td>1</td>\n",
              "      <td>3</td>\n",
              "      <td>0</td>\n",
              "      <td>0</td>\n",
              "      <td>0</td>\n",
              "      <td>0</td>\n",
              "      <td>0</td>\n",
              "      <td>0</td>\n",
              "      <td>0</td>\n",
              "      <td>1</td>\n",
              "      <td>1</td>\n",
              "      <td>1</td>\n",
              "      <td>1</td>\n",
              "      <td>1</td>\n",
              "      <td>0</td>\n",
              "    </tr>\n",
              "    <tr>\n",
              "      <th>4</th>\n",
              "      <td>0</td>\n",
              "      <td>0</td>\n",
              "      <td>1</td>\n",
              "      <td>3</td>\n",
              "      <td>0</td>\n",
              "      <td>0</td>\n",
              "      <td>0</td>\n",
              "      <td>0</td>\n",
              "      <td>0</td>\n",
              "      <td>0</td>\n",
              "      <td>1</td>\n",
              "      <td>1</td>\n",
              "      <td>0</td>\n",
              "      <td>1</td>\n",
              "      <td>1</td>\n",
              "      <td>0</td>\n",
              "      <td>0</td>\n",
              "    </tr>\n",
              "  </tbody>\n",
              "</table>\n",
              "</div>\n",
              "      <button class=\"colab-df-convert\" onclick=\"convertToInteractive('df-b0ac96b5-b423-45d5-9ee0-7633d4635efc')\"\n",
              "              title=\"Convert this dataframe to an interactive table.\"\n",
              "              style=\"display:none;\">\n",
              "        \n",
              "  <svg xmlns=\"http://www.w3.org/2000/svg\" height=\"24px\"viewBox=\"0 0 24 24\"\n",
              "       width=\"24px\">\n",
              "    <path d=\"M0 0h24v24H0V0z\" fill=\"none\"/>\n",
              "    <path d=\"M18.56 5.44l.94 2.06.94-2.06 2.06-.94-2.06-.94-.94-2.06-.94 2.06-2.06.94zm-11 1L8.5 8.5l.94-2.06 2.06-.94-2.06-.94L8.5 2.5l-.94 2.06-2.06.94zm10 10l.94 2.06.94-2.06 2.06-.94-2.06-.94-.94-2.06-.94 2.06-2.06.94z\"/><path d=\"M17.41 7.96l-1.37-1.37c-.4-.4-.92-.59-1.43-.59-.52 0-1.04.2-1.43.59L10.3 9.45l-7.72 7.72c-.78.78-.78 2.05 0 2.83L4 21.41c.39.39.9.59 1.41.59.51 0 1.02-.2 1.41-.59l7.78-7.78 2.81-2.81c.8-.78.8-2.07 0-2.86zM5.41 20L4 18.59l7.72-7.72 1.47 1.35L5.41 20z\"/>\n",
              "  </svg>\n",
              "      </button>\n",
              "      \n",
              "  <style>\n",
              "    .colab-df-container {\n",
              "      display:flex;\n",
              "      flex-wrap:wrap;\n",
              "      gap: 12px;\n",
              "    }\n",
              "\n",
              "    .colab-df-convert {\n",
              "      background-color: #E8F0FE;\n",
              "      border: none;\n",
              "      border-radius: 50%;\n",
              "      cursor: pointer;\n",
              "      display: none;\n",
              "      fill: #1967D2;\n",
              "      height: 32px;\n",
              "      padding: 0 0 0 0;\n",
              "      width: 32px;\n",
              "    }\n",
              "\n",
              "    .colab-df-convert:hover {\n",
              "      background-color: #E2EBFA;\n",
              "      box-shadow: 0px 1px 2px rgba(60, 64, 67, 0.3), 0px 1px 3px 1px rgba(60, 64, 67, 0.15);\n",
              "      fill: #174EA6;\n",
              "    }\n",
              "\n",
              "    [theme=dark] .colab-df-convert {\n",
              "      background-color: #3B4455;\n",
              "      fill: #D2E3FC;\n",
              "    }\n",
              "\n",
              "    [theme=dark] .colab-df-convert:hover {\n",
              "      background-color: #434B5C;\n",
              "      box-shadow: 0px 1px 3px 1px rgba(0, 0, 0, 0.15);\n",
              "      filter: drop-shadow(0px 1px 2px rgba(0, 0, 0, 0.3));\n",
              "      fill: #FFFFFF;\n",
              "    }\n",
              "  </style>\n",
              "\n",
              "      <script>\n",
              "        const buttonEl =\n",
              "          document.querySelector('#df-b0ac96b5-b423-45d5-9ee0-7633d4635efc button.colab-df-convert');\n",
              "        buttonEl.style.display =\n",
              "          google.colab.kernel.accessAllowed ? 'block' : 'none';\n",
              "\n",
              "        async function convertToInteractive(key) {\n",
              "          const element = document.querySelector('#df-b0ac96b5-b423-45d5-9ee0-7633d4635efc');\n",
              "          const dataTable =\n",
              "            await google.colab.kernel.invokeFunction('convertToInteractive',\n",
              "                                                     [key], {});\n",
              "          if (!dataTable) return;\n",
              "\n",
              "          const docLinkHtml = 'Like what you see? Visit the ' +\n",
              "            '<a target=\"_blank\" href=https://colab.research.google.com/notebooks/data_table.ipynb>data table notebook</a>'\n",
              "            + ' to learn more about interactive tables.';\n",
              "          element.innerHTML = '';\n",
              "          dataTable['output_type'] = 'display_data';\n",
              "          await google.colab.output.renderOutput(dataTable, element);\n",
              "          const docLink = document.createElement('div');\n",
              "          docLink.innerHTML = docLinkHtml;\n",
              "          element.appendChild(docLink);\n",
              "        }\n",
              "      </script>\n",
              "    </div>\n",
              "  </div>\n",
              "  "
            ]
          },
          "metadata": {},
          "execution_count": 25
        }
      ]
    },
    {
      "cell_type": "code",
      "source": [
        "y = data['Label']\n",
        "X = data.drop('Label',axis=1)\n",
        "X.shape, y.shape"
      ],
      "metadata": {
        "id": "ioIvYF_p0ZIx",
        "colab": {
          "base_uri": "https://localhost:8080/"
        },
        "outputId": "29606dbd-16b2-4f04-90f6-9a2b13f2ae69"
      },
      "execution_count": 26,
      "outputs": [
        {
          "output_type": "execute_result",
          "data": {
            "text/plain": [
              "((3000, 16), (3000,))"
            ]
          },
          "metadata": {},
          "execution_count": 26
        }
      ]
    },
    {
      "cell_type": "markdown",
      "source": [
        "Splitting the Data"
      ],
      "metadata": {
        "id": "zJVQJ7FDbuNB"
      }
    },
    {
      "cell_type": "code",
      "source": [
        "from sklearn.model_selection import train_test_split\n",
        "\n",
        "X_train, X_test, y_train, y_test = train_test_split(X, y, test_size = 0.2, random_state = 12)\n",
        "X_train.shape, X_test.shape"
      ],
      "metadata": {
        "id": "10J24Lta0aTO",
        "colab": {
          "base_uri": "https://localhost:8080/"
        },
        "outputId": "a0559725-fcd2-4b83-c0b2-86a48118ea82"
      },
      "execution_count": 27,
      "outputs": [
        {
          "output_type": "execute_result",
          "data": {
            "text/plain": [
              "((2400, 16), (600, 16))"
            ]
          },
          "metadata": {},
          "execution_count": 27
        }
      ]
    },
    {
      "cell_type": "markdown",
      "source": [
        "#  Machine Learning Models"
      ],
      "metadata": {
        "id": "WGwVos5Xb6DA"
      }
    },
    {
      "cell_type": "code",
      "source": [
        "from sklearn.metrics import accuracy_score\n",
        "     \n",
        "# Creating holders to store the model performance results\n",
        "ML_Model = []\n",
        "acc_train = []\n",
        "acc_test = []\n",
        "\n",
        "#function to call for storing the results\n",
        "def storeResults(model, a,b):\n",
        "  ML_Model.append(model)\n",
        "  acc_train.append(round(a, 3))\n",
        "  acc_test.append(round(b, 3))"
      ],
      "metadata": {
        "id": "vxrrlTyY0dOZ"
      },
      "execution_count": 28,
      "outputs": []
    },
    {
      "cell_type": "markdown",
      "source": [
        "## TRAINING OF THE MODELS"
      ],
      "metadata": {
        "id": "IVAeEUiab9Aq"
      }
    },
    {
      "cell_type": "markdown",
      "source": [
        "**DECISION TREE CLASSIFIER**"
      ],
      "metadata": {
        "id": "hLJQTayfcO3T"
      }
    },
    {
      "cell_type": "code",
      "source": [
        "from sklearn.tree import DecisionTreeClassifier\n",
        "\n",
        "# instantiate the model \n",
        "tree = DecisionTreeClassifier(max_depth = 5)\n",
        "# fit the model \n",
        "tree.fit(X_train, y_train)"
      ],
      "metadata": {
        "id": "N2eBs9KL0kGb",
        "colab": {
          "base_uri": "https://localhost:8080/"
        },
        "outputId": "cf88af20-6e0a-4f25-909c-e38b1a77798d"
      },
      "execution_count": 29,
      "outputs": [
        {
          "output_type": "execute_result",
          "data": {
            "text/plain": [
              "DecisionTreeClassifier(max_depth=5)"
            ]
          },
          "metadata": {},
          "execution_count": 29
        }
      ]
    },
    {
      "cell_type": "code",
      "source": [
        "y_test_tree = tree.predict(X_test)\n",
        "y_train_tree = tree.predict(X_train)"
      ],
      "metadata": {
        "id": "sDds9syr0pl_"
      },
      "execution_count": 30,
      "outputs": []
    },
    {
      "cell_type": "code",
      "source": [
        "print(tree)\n",
        "print('Train performance')\n",
        "print('-------------------------------------------------------')\n",
        "print(classification_report(y_train, y_train_tree))\n",
        "\n",
        "print('Test performance')\n",
        "print('-------------------------------------------------------')\n",
        "print(classification_report(y_test, y_test_tree))\n",
        "\n",
        "print('Roc_auc score')\n",
        "print('-------------------------------------------------------')\n",
        "print(roc_auc_score(y_test, y_test_tree))\n",
        "print('')\n",
        "\n",
        "print('Confusion matrix')\n",
        "print('-------------------------------------------------------')\n",
        "print(confusion_matrix(y_test, y_test_tree))\n"
      ],
      "metadata": {
        "colab": {
          "base_uri": "https://localhost:8080/"
        },
        "id": "KS5ksT9vfGhB",
        "outputId": "e8ecc2f1-8218-4a7b-ba37-30c126dd6c9e"
      },
      "execution_count": 31,
      "outputs": [
        {
          "output_type": "stream",
          "name": "stdout",
          "text": [
            "DecisionTreeClassifier(max_depth=5)\n",
            "Train performance\n",
            "-------------------------------------------------------\n",
            "              precision    recall  f1-score   support\n",
            "\n",
            "           0       0.76      1.00      0.86      1198\n",
            "           1       1.00      0.69      0.81      1202\n",
            "\n",
            "    accuracy                           0.84      2400\n",
            "   macro avg       0.88      0.84      0.84      2400\n",
            "weighted avg       0.88      0.84      0.84      2400\n",
            "\n",
            "Test performance\n",
            "-------------------------------------------------------\n",
            "              precision    recall  f1-score   support\n",
            "\n",
            "           0       0.76      0.99      0.86       302\n",
            "           1       0.99      0.67      0.80       298\n",
            "\n",
            "    accuracy                           0.83       600\n",
            "   macro avg       0.87      0.83      0.83       600\n",
            "weighted avg       0.87      0.83      0.83       600\n",
            "\n",
            "Roc_auc score\n",
            "-------------------------------------------------------\n",
            "0.8339370638695052\n",
            "\n",
            "Confusion matrix\n",
            "-------------------------------------------------------\n",
            "[[300   2]\n",
            " [ 97 201]]\n"
          ]
        }
      ]
    },
    {
      "cell_type": "code",
      "source": [
        "#computing the accuracy of the model performance\n",
        "acc_train_tree = accuracy_score(y_train,y_train_tree)\n",
        "acc_test_tree = accuracy_score(y_test,y_test_tree)\n",
        "\n",
        "print(\"Decision Tree: Accuracy on training Data: {:.3f}\".format(acc_train_tree))\n",
        "print(\"Decision Tree: Accuracy on test Data: {:.3f}\".format(acc_test_tree))"
      ],
      "metadata": {
        "id": "DF9Su0DT0rOh",
        "colab": {
          "base_uri": "https://localhost:8080/"
        },
        "outputId": "39733067-773a-43b4-f7b3-28e39e03bf28"
      },
      "execution_count": 32,
      "outputs": [
        {
          "output_type": "stream",
          "name": "stdout",
          "text": [
            "Decision Tree: Accuracy on training Data: 0.842\n",
            "Decision Tree: Accuracy on test Data: 0.835\n"
          ]
        }
      ]
    },
    {
      "cell_type": "code",
      "source": [
        "#checking the feature improtance in the model\n",
        "plt.figure(figsize=(9,7))\n",
        "n_features = X_train.shape[1]\n",
        "plt.barh(range(n_features), tree.feature_importances_, align='center')\n",
        "plt.yticks(np.arange(n_features), X_train.columns)\n",
        "plt.xlabel(\"Feature importance\")\n",
        "plt.ylabel(\"Feature\")\n",
        "plt.show()"
      ],
      "metadata": {
        "id": "IeDCrHOG0wzD",
        "colab": {
          "base_uri": "https://localhost:8080/",
          "height": 442
        },
        "outputId": "715c81e8-d81f-44b6-f426-dc9dd037f1dd"
      },
      "execution_count": 33,
      "outputs": [
        {
          "output_type": "display_data",
          "data": {
            "text/plain": [
              "<Figure size 648x504 with 1 Axes>"
            ],
            "image/png": "[encoded data removed]"
          },
          "metadata": {
            "needs_background": "light"
          }
        }
      ]
    },
    {
      "cell_type": "code",
      "source": [
        "storeResults('Decision Tree', acc_train_tree, acc_test_tree)"
      ],
      "metadata": {
        "id": "hcKfGXY00zfT"
      },
      "execution_count": 34,
      "outputs": []
    },
    {
      "cell_type": "markdown",
      "source": [
        "**RANDOM FOREST CLASSIFIER**"
      ],
      "metadata": {
        "id": "iQg6HycdcZ9h"
      }
    },
    {
      "cell_type": "code",
      "source": [
        "# Random Forest model\n",
        "from sklearn.ensemble import RandomForestClassifier\n",
        "\n",
        "# instantiate the model\n",
        "forest = RandomForestClassifier(max_depth=5)\n",
        "\n",
        "# fit the model \n",
        "forest.fit(X_train, y_train)\n",
        " "
      ],
      "metadata": {
        "colab": {
          "base_uri": "https://localhost:8080/"
        },
        "id": "2kX8j9TC03eR",
        "outputId": "7aaff903-7977-4505-d0a1-42e8b67b706b"
      },
      "execution_count": 35,
      "outputs": [
        {
          "output_type": "execute_result",
          "data": {
            "text/plain": [
              "RandomForestClassifier(max_depth=5)"
            ]
          },
          "metadata": {},
          "execution_count": 35
        }
      ]
    },
    {
      "cell_type": "code",
      "source": [
        "#predicting the target value from the model for the samples\n",
        "y_test_forest = forest.predict(X_test)\n",
        "y_train_forest = forest.predict(X_train)\n",
        " "
      ],
      "metadata": {
        "id": "sNYgYGCs1FZz"
      },
      "execution_count": 36,
      "outputs": []
    },
    {
      "cell_type": "code",
      "source": [
        "print(RandomForestClassifier)\n",
        "print('Train performance')\n",
        "print('-------------------------------------------------------')\n",
        "print(classification_report(y_train, y_train_forest))\n",
        "\n",
        "print('Test performance')\n",
        "print('-------------------------------------------------------')\n",
        "print(classification_report(y_test, y_test_forest))\n",
        "\n",
        "print('Roc_auc score')\n",
        "print('-------------------------------------------------------')\n",
        "print(roc_auc_score(y_test, y_test_forest))\n",
        "print('')\n",
        "\n",
        "print('Confusion matrix')\n",
        "print('-------------------------------------------------------')\n",
        "print(confusion_matrix(y_test, y_test_forest))\n"
      ],
      "metadata": {
        "colab": {
          "base_uri": "https://localhost:8080/"
        },
        "id": "pPIuf1W3fVdt",
        "outputId": "45457daf-9ddf-4f98-9b0a-bbbc8baa1355"
      },
      "execution_count": 37,
      "outputs": [
        {
          "output_type": "stream",
          "name": "stdout",
          "text": [
            "<class 'sklearn.ensemble._forest.RandomForestClassifier'>\n",
            "Train performance\n",
            "-------------------------------------------------------\n",
            "              precision    recall  f1-score   support\n",
            "\n",
            "           0       0.77      1.00      0.87      1198\n",
            "           1       0.99      0.70      0.82      1202\n",
            "\n",
            "    accuracy                           0.85      2400\n",
            "   macro avg       0.88      0.85      0.84      2400\n",
            "weighted avg       0.88      0.85      0.84      2400\n",
            "\n",
            "Test performance\n",
            "-------------------------------------------------------\n",
            "              precision    recall  f1-score   support\n",
            "\n",
            "           0       0.76      0.99      0.86       302\n",
            "           1       0.99      0.68      0.81       298\n",
            "\n",
            "    accuracy                           0.84       600\n",
            "   macro avg       0.87      0.84      0.83       600\n",
            "weighted avg       0.87      0.84      0.83       600\n",
            "\n",
            "Roc_auc score\n",
            "-------------------------------------------------------\n",
            "0.8372927685674919\n",
            "\n",
            "Confusion matrix\n",
            "-------------------------------------------------------\n",
            "[[300   2]\n",
            " [ 95 203]]\n"
          ]
        }
      ]
    },
    {
      "cell_type": "code",
      "source": [
        "#computing the accuracy of the model performance\n",
        "acc_train_forest = accuracy_score(y_train,y_train_forest)\n",
        "acc_test_forest = accuracy_score(y_test,y_test_forest)\n",
        "\n",
        "print(\"Random forest: Accuracy on training Data: {:.3f}\".format(acc_train_forest))\n",
        "print(\"Random forest: Accuracy on test Data: {:.3f}\".format(acc_test_forest))\n",
        "     "
      ],
      "metadata": {
        "id": "P1Nc8b491L-z",
        "colab": {
          "base_uri": "https://localhost:8080/"
        },
        "outputId": "cfdf3a87-6685-4f24-e6b0-51d3b368e1f6"
      },
      "execution_count": 38,
      "outputs": [
        {
          "output_type": "stream",
          "name": "stdout",
          "text": [
            "Random forest: Accuracy on training Data: 0.845\n",
            "Random forest: Accuracy on test Data: 0.838\n"
          ]
        }
      ]
    },
    {
      "cell_type": "code",
      "source": [
        "#checking the feature improtance in the model\n",
        "plt.figure(figsize=(9,7))\n",
        "n_features = X_train.shape[1]\n",
        "plt.barh(range(n_features), forest.feature_importances_, align='center')\n",
        "plt.yticks(np.arange(n_features), X_train.columns)\n",
        "plt.xlabel(\"Feature importance\")\n",
        "plt.ylabel(\"Feature\")\n",
        "plt.show()"
      ],
      "metadata": {
        "id": "iKLJvOt_1QzV",
        "colab": {
          "base_uri": "https://localhost:8080/",
          "height": 442
        },
        "outputId": "9c210554-f96d-416b-f2e2-417a04e8d4e7"
      },
      "execution_count": 39,
      "outputs": [
        {
          "output_type": "display_data",
          "data": {
            "text/plain": [
              "<Figure size 648x504 with 1 Axes>"
            ],
            "image/png": "[encoded data removed]"
          },
          "metadata": {
            "needs_background": "light"
          }
        }
      ]
    },
    {
      "cell_type": "code",
      "source": [
        "storeResults('Random Forest', acc_train_forest, acc_test_forest)\n",
        "     "
      ],
      "metadata": {
        "id": "w2Y-i1LF1Rx2"
      },
      "execution_count": 40,
      "outputs": []
    },
    {
      "cell_type": "markdown",
      "source": [
        "** Multilayer Perceptron**\n"
      ],
      "metadata": {
        "id": "l80YEk_mcfaq"
      }
    },
    {
      "cell_type": "code",
      "source": [
        "# Multilayer Perceptrons model\n",
        "from sklearn.neural_network import MLPClassifier\n",
        "\n",
        "# instantiate the model\n",
        "mlp = MLPClassifier(alpha=0.001, hidden_layer_sizes=([100,100,100]))\n",
        "\n",
        "# fit the model \n",
        "mlp.fit(X_train, y_train)"
      ],
      "metadata": {
        "id": "88-ykXYP1ZyE",
        "colab": {
          "base_uri": "https://localhost:8080/"
        },
        "outputId": "5054e7be-cd2f-4d76-818f-797db7512daa"
      },
      "execution_count": 41,
      "outputs": [
        {
          "output_type": "execute_result",
          "data": {
            "text/plain": [
              "MLPClassifier(alpha=0.001, hidden_layer_sizes=[100, 100, 100])"
            ]
          },
          "metadata": {},
          "execution_count": 41
        }
      ]
    },
    {
      "cell_type": "code",
      "source": [
        "y_test_mlp = mlp.predict(X_test)\n",
        "y_train_mlp = mlp.predict(X_train)\n",
        "     "
      ],
      "metadata": {
        "id": "71vgGz7N1aeP"
      },
      "execution_count": 42,
      "outputs": []
    },
    {
      "cell_type": "code",
      "source": [
        "print(mlp)\n",
        "print('Train performance')\n",
        "print('-------------------------------------------------------')\n",
        "print(classification_report(y_train, y_train_mlp))\n",
        "\n",
        "print('Test performance')\n",
        "print('-------------------------------------------------------')\n",
        "print(classification_report(y_test, y_test_mlp))\n",
        "\n",
        "print('Roc_auc score')\n",
        "print('-------------------------------------------------------')\n",
        "print(roc_auc_score(y_test, y_test_mlp))\n",
        "print('')\n",
        "\n",
        "print('Confusion matrix')\n",
        "print('-------------------------------------------------------')\n",
        "print(confusion_matrix(y_test, y_test_mlp))\n"
      ],
      "metadata": {
        "colab": {
          "base_uri": "https://localhost:8080/"
        },
        "id": "J3jufAwAfgRH",
        "outputId": "428ab8f3-e343-42b0-c2c6-dc4b8a6f5e39"
      },
      "execution_count": 43,
      "outputs": [
        {
          "output_type": "stream",
          "name": "stdout",
          "text": [
            "MLPClassifier(alpha=0.001, hidden_layer_sizes=[100, 100, 100])\n",
            "Train performance\n",
            "-------------------------------------------------------\n",
            "              precision    recall  f1-score   support\n",
            "\n",
            "           0       0.79      0.99      0.88      1198\n",
            "           1       0.98      0.74      0.85      1202\n",
            "\n",
            "    accuracy                           0.86      2400\n",
            "   macro avg       0.89      0.86      0.86      2400\n",
            "weighted avg       0.89      0.86      0.86      2400\n",
            "\n",
            "Test performance\n",
            "-------------------------------------------------------\n",
            "              precision    recall  f1-score   support\n",
            "\n",
            "           0       0.78      0.99      0.87       302\n",
            "           1       0.99      0.72      0.83       298\n",
            "\n",
            "    accuracy                           0.86       600\n",
            "   macro avg       0.89      0.86      0.85       600\n",
            "weighted avg       0.89      0.86      0.85       600\n",
            "\n",
            "Roc_auc score\n",
            "-------------------------------------------------------\n",
            "0.855749144406418\n",
            "\n",
            "Confusion matrix\n",
            "-------------------------------------------------------\n",
            "[[300   2]\n",
            " [ 84 214]]\n"
          ]
        }
      ]
    },
    {
      "cell_type": "code",
      "source": [
        "#computing the accuracy of the model performance\n",
        "acc_train_mlp = accuracy_score(y_train,y_train_mlp)\n",
        "acc_test_mlp = accuracy_score(y_test,y_test_mlp)\n",
        "\n",
        "print(\"Multilayer Perceptrons: Accuracy on training Data: {:.3f}\".format(acc_train_mlp))\n",
        "print(\"Multilayer Perceptrons: Accuracy on test Data: {:.3f}\".format(acc_test_mlp))\n",
        "    "
      ],
      "metadata": {
        "id": "-K9Cj7Nr1dHd",
        "colab": {
          "base_uri": "https://localhost:8080/"
        },
        "outputId": "37163715-622c-4266-d257-8a900928c698"
      },
      "execution_count": 44,
      "outputs": [
        {
          "output_type": "stream",
          "name": "stdout",
          "text": [
            "Multilayer Perceptrons: Accuracy on training Data: 0.864\n",
            "Multilayer Perceptrons: Accuracy on test Data: 0.857\n"
          ]
        }
      ]
    },
    {
      "cell_type": "code",
      "source": [
        "storeResults('Multilayer Perceptrons', acc_train_mlp, acc_test_mlp)\n",
        "     "
      ],
      "metadata": {
        "id": "xc9v7mDO1hPl"
      },
      "execution_count": 45,
      "outputs": []
    },
    {
      "cell_type": "markdown",
      "source": [
        "**XGBoost Classification**"
      ],
      "metadata": {
        "id": "rlZ_XhpectKK"
      }
    },
    {
      "cell_type": "code",
      "source": [
        "#XGBoost Classification model\n",
        "from xgboost import XGBClassifier\n",
        "\n",
        "# instantiate the model\n",
        "xgb = XGBClassifier(learning_rate=0.1,max_depth=9)\n",
        "#fit the model\n",
        "xgb.fit(X_train, y_train)\n",
        "     "
      ],
      "metadata": {
        "id": "UR3vWeia1kLJ",
        "colab": {
          "base_uri": "https://localhost:8080/"
        },
        "outputId": "cc6ebc0c-493a-471a-b1b9-c4e1c8fdf2a9"
      },
      "execution_count": 46,
      "outputs": [
        {
          "output_type": "execute_result",
          "data": {
            "text/plain": [
              "XGBClassifier(max_depth=9)"
            ]
          },
          "metadata": {},
          "execution_count": 46
        }
      ]
    },
    {
      "cell_type": "code",
      "source": [
        "#predicting the target value from the model for the samples\n",
        "y_test_xgb = xgb.predict(X_test)\n",
        "y_train_xgb = xgb.predict(X_train)"
      ],
      "metadata": {
        "id": "uF__X-AW1nXx"
      },
      "execution_count": 47,
      "outputs": []
    },
    {
      "cell_type": "code",
      "source": [
        "print(XGBClassifier)\n",
        "print('Train performance')\n",
        "print('-------------------------------------------------------')\n",
        "print(classification_report(y_train, y_train_xgb))\n",
        "\n",
        "print('Test performance')\n",
        "print('-------------------------------------------------------')\n",
        "print(classification_report(y_test, y_test_xgb))\n",
        "\n",
        "print('Roc_auc score')\n",
        "print('-------------------------------------------------------')\n",
        "print(roc_auc_score(y_test, y_test_xgb))\n",
        "print('')\n",
        "\n",
        "print('Confusion matrix')\n",
        "print('-------------------------------------------------------')\n",
        "print(confusion_matrix(y_test, y_test_xgb))\n"
      ],
      "metadata": {
        "colab": {
          "base_uri": "https://localhost:8080/"
        },
        "id": "a64jUY4jfpQW",
        "outputId": "b69e6257-04fd-4f88-f68d-2027fed388ed"
      },
      "execution_count": 48,
      "outputs": [
        {
          "output_type": "stream",
          "name": "stdout",
          "text": [
            "<class 'xgboost.sklearn.XGBClassifier'>\n",
            "Train performance\n",
            "-------------------------------------------------------\n",
            "              precision    recall  f1-score   support\n",
            "\n",
            "           0       0.82      0.98      0.89      1198\n",
            "           1       0.97      0.78      0.87      1202\n",
            "\n",
            "    accuracy                           0.88      2400\n",
            "   macro avg       0.90      0.88      0.88      2400\n",
            "weighted avg       0.90      0.88      0.88      2400\n",
            "\n",
            "Test performance\n",
            "-------------------------------------------------------\n",
            "              precision    recall  f1-score   support\n",
            "\n",
            "           0       0.80      0.98      0.88       302\n",
            "           1       0.97      0.76      0.85       298\n",
            "\n",
            "    accuracy                           0.87       600\n",
            "   macro avg       0.89      0.87      0.87       600\n",
            "weighted avg       0.89      0.87      0.87       600\n",
            "\n",
            "Roc_auc score\n",
            "-------------------------------------------------------\n",
            "0.8692608560380461\n",
            "\n",
            "Confusion matrix\n",
            "-------------------------------------------------------\n",
            "[[296   6]\n",
            " [ 72 226]]\n"
          ]
        }
      ]
    },
    {
      "cell_type": "code",
      "source": [
        "#computing the accuracy of the model performance\n",
        "acc_train_xgb = accuracy_score(y_train,y_train_xgb)\n",
        "acc_test_xgb = accuracy_score(y_test,y_test_xgb)\n",
        "\n",
        "print(\"XGBoost: Accuracy on training Data: {:.3f}\".format(acc_train_xgb))\n",
        "print(\"XGBoost : Accuracy on test Data: {:.3f}\".format(acc_test_xgb))\n",
        "     "
      ],
      "metadata": {
        "id": "7FP2uVrM1q9e",
        "colab": {
          "base_uri": "https://localhost:8080/"
        },
        "outputId": "80f986b8-a43b-4804-88b4-c1c8d00c7c55"
      },
      "execution_count": 49,
      "outputs": [
        {
          "output_type": "stream",
          "name": "stdout",
          "text": [
            "XGBoost: Accuracy on training Data: 0.881\n",
            "XGBoost : Accuracy on test Data: 0.870\n"
          ]
        }
      ]
    },
    {
      "cell_type": "code",
      "source": [
        "storeResults('XGBoost', acc_train_xgb, acc_test_xgb)\n",
        "     "
      ],
      "metadata": {
        "id": "5-Zt_3v21tVp"
      },
      "execution_count": 50,
      "outputs": []
    },
    {
      "cell_type": "markdown",
      "source": [
        "Support vector machine model"
      ],
      "metadata": {
        "id": "4wCRsGRwc2gj"
      }
    },
    {
      "cell_type": "code",
      "source": [
        "\n",
        "from sklearn.svm import SVC\n",
        "\n",
        "# instantiate the model\n",
        "svm = SVC(kernel='linear', C=1.0, random_state=12)\n",
        "#fit the model\n",
        "svm.fit(X_train, y_train)"
      ],
      "metadata": {
        "id": "QkOl218e1wSr",
        "colab": {
          "base_uri": "https://localhost:8080/"
        },
        "outputId": "8b9ff307-6760-4db3-df37-48ef59887352"
      },
      "execution_count": 51,
      "outputs": [
        {
          "output_type": "execute_result",
          "data": {
            "text/plain": [
              "SVC(kernel='linear', random_state=12)"
            ]
          },
          "metadata": {},
          "execution_count": 51
        }
      ]
    },
    {
      "cell_type": "code",
      "source": [
        "#predicting the target value from the model for the samples\n",
        "y_test_svm = svm.predict(X_test)\n",
        "y_train_svm = svm.predict(X_train)\n",
        "     "
      ],
      "metadata": {
        "id": "qU_8PqF716oy"
      },
      "execution_count": 52,
      "outputs": []
    },
    {
      "cell_type": "code",
      "source": [
        "print(svm)\n",
        "print('Train performance')\n",
        "print('-------------------------------------------------------')\n",
        "print(classification_report(y_train, y_train_svm))\n",
        "\n",
        "print('Test performance')\n",
        "print('-------------------------------------------------------')\n",
        "print(classification_report(y_test, y_test_svm))\n",
        "\n",
        "print('Roc_auc score')\n",
        "print('-------------------------------------------------------')\n",
        "print(roc_auc_score(y_test, y_test_svm))\n",
        "print('')\n",
        "\n",
        "print('Confusion matrix')\n",
        "print('-------------------------------------------------------')\n",
        "print(confusion_matrix(y_test, y_test_svm))\n"
      ],
      "metadata": {
        "colab": {
          "base_uri": "https://localhost:8080/"
        },
        "id": "yCMzymXifx2A",
        "outputId": "98989f19-b62a-4abd-c996-3601f29fa95d"
      },
      "execution_count": 53,
      "outputs": [
        {
          "output_type": "stream",
          "name": "stdout",
          "text": [
            "SVC(kernel='linear', random_state=12)\n",
            "Train performance\n",
            "-------------------------------------------------------\n",
            "              precision    recall  f1-score   support\n",
            "\n",
            "           0       0.79      0.96      0.86      1198\n",
            "           1       0.95      0.74      0.83      1202\n",
            "\n",
            "    accuracy                           0.85      2400\n",
            "   macro avg       0.87      0.85      0.85      2400\n",
            "weighted avg       0.87      0.85      0.85      2400\n",
            "\n",
            "Test performance\n",
            "-------------------------------------------------------\n",
            "              precision    recall  f1-score   support\n",
            "\n",
            "           0       0.79      0.96      0.86       302\n",
            "           1       0.95      0.73      0.83       298\n",
            "\n",
            "    accuracy                           0.85       600\n",
            "   macro avg       0.87      0.85      0.85       600\n",
            "weighted avg       0.87      0.85      0.85       600\n",
            "\n",
            "Roc_auc score\n",
            "-------------------------------------------------------\n",
            "0.847582114760656\n",
            "\n",
            "Confusion matrix\n",
            "-------------------------------------------------------\n",
            "[[290  12]\n",
            " [ 79 219]]\n"
          ]
        }
      ]
    },
    {
      "cell_type": "code",
      "source": [
        "#computing the accuracy of the model performance\n",
        "acc_train_svm = accuracy_score(y_train,y_train_svm)\n",
        "acc_test_svm = accuracy_score(y_test,y_test_svm)\n",
        "\n",
        "print(\"SVM: Accuracy on training Data: {:.3f}\".format(acc_train_svm))\n",
        "print(\"SVM : Accuracy on test Data: {:.3f}\".format(acc_test_svm))\n",
        "     "
      ],
      "metadata": {
        "id": "pnZQqClg18vC",
        "colab": {
          "base_uri": "https://localhost:8080/"
        },
        "outputId": "a49fe026-d91b-49d5-9190-a13272afe71a"
      },
      "execution_count": 54,
      "outputs": [
        {
          "output_type": "stream",
          "name": "stdout",
          "text": [
            "SVM: Accuracy on training Data: 0.849\n",
            "SVM : Accuracy on test Data: 0.848\n"
          ]
        }
      ]
    },
    {
      "cell_type": "code",
      "source": [
        "storeResults('SVM', acc_train_svm, acc_test_svm)\n",
        "     "
      ],
      "metadata": {
        "id": "d3wj-Sx01_L4"
      },
      "execution_count": 55,
      "outputs": []
    },
    {
      "cell_type": "markdown",
      "source": [
        "**KNeighborsClassifier**"
      ],
      "metadata": {
        "id": "Y0AOO1c6dIJn"
      }
    },
    {
      "cell_type": "code",
      "source": [
        "from sklearn.neighbors import KNeighborsClassifier"
      ],
      "metadata": {
        "id": "E7V4Ye2P2sPQ"
      },
      "execution_count": 56,
      "outputs": []
    },
    {
      "cell_type": "code",
      "source": [
        "knmodel = KNeighborsClassifier()\n",
        "knmodel.fit(X_train, y_train)\n",
        "y_train_kn = knmodel.predict(X_train)\n",
        "y_test_kn = knmodel.predict(X_test)\n",
        "print(knmodel)\n",
        "print('Train performance')\n",
        "print('-------------------------------------------------------')\n",
        "print(classification_report(y_train, y_train_kn))\n",
        "\n",
        "print('Test performance')\n",
        "print('-------------------------------------------------------')\n",
        "print(classification_report(y_test, y_test_kn))\n",
        "\n",
        "print('Roc_auc score')\n",
        "print('-------------------------------------------------------')\n",
        "print(roc_auc_score(y_test, y_test_kn))\n",
        "print('')\n",
        "\n",
        "print('Confusion matrix')\n",
        "print('-------------------------------------------------------')\n",
        "print(confusion_matrix(y_test, y_test_kn))\n"
      ],
      "metadata": {
        "colab": {
          "base_uri": "https://localhost:8080/"
        },
        "id": "DaU5g8qg2MyV",
        "outputId": "1f27f18c-26a4-4265-fa05-4e60413bacef"
      },
      "execution_count": 57,
      "outputs": [
        {
          "output_type": "stream",
          "name": "stdout",
          "text": [
            "KNeighborsClassifier()\n",
            "Train performance\n",
            "-------------------------------------------------------\n",
            "              precision    recall  f1-score   support\n",
            "\n",
            "           0       0.81      0.96      0.88      1198\n",
            "           1       0.95      0.77      0.85      1202\n",
            "\n",
            "    accuracy                           0.86      2400\n",
            "   macro avg       0.88      0.86      0.86      2400\n",
            "weighted avg       0.88      0.86      0.86      2400\n",
            "\n",
            "Test performance\n",
            "-------------------------------------------------------\n",
            "              precision    recall  f1-score   support\n",
            "\n",
            "           0       0.79      0.96      0.87       302\n",
            "           1       0.95      0.73      0.83       298\n",
            "\n",
            "    accuracy                           0.85       600\n",
            "   macro avg       0.87      0.85      0.85       600\n",
            "weighted avg       0.87      0.85      0.85       600\n",
            "\n",
            "Roc_auc score\n",
            "-------------------------------------------------------\n",
            "0.849237743899729\n",
            "\n",
            "Confusion matrix\n",
            "-------------------------------------------------------\n",
            "[[291  11]\n",
            " [ 79 219]]\n"
          ]
        }
      ]
    },
    {
      "cell_type": "code",
      "source": [
        "acc_train_kn = accuracy_score(y_train,y_train_kn)\n",
        "acc_test_kn = accuracy_score(y_test,y_test_kn)\n",
        "\n",
        "print(\"KN: Accuracy on training Data: {:.3f}\".format(acc_train_kn))\n",
        "print(\"KN: Accuracy on test Data: {:.3f}\".format(acc_test_kn))\n",
        "     "
      ],
      "metadata": {
        "colab": {
          "base_uri": "https://localhost:8080/"
        },
        "id": "tuqzQz3Z2_Rg",
        "outputId": "8cddc1d5-2bd2-4c2f-9b70-466cd747886b"
      },
      "execution_count": 58,
      "outputs": [
        {
          "output_type": "stream",
          "name": "stdout",
          "text": [
            "KN: Accuracy on training Data: 0.865\n",
            "KN: Accuracy on test Data: 0.850\n"
          ]
        }
      ]
    },
    {
      "cell_type": "code",
      "source": [
        "storeResults('KN', acc_train_kn, acc_test_kn)\n",
        "     "
      ],
      "metadata": {
        "id": "mgb-EVM64fo2"
      },
      "execution_count": 60,
      "outputs": []
    },
    {
      "cell_type": "markdown",
      "source": [
        "**ExtraTreesClassifier**"
      ],
      "metadata": {
        "id": "shltH_zOdjnS"
      }
    },
    {
      "cell_type": "code",
      "source": [
        "from sklearn.ensemble import ExtraTreesClassifier\n",
        "\n",
        "ETCmodel = ExtraTreesClassifier(random_state=123)\n",
        "ETCmodel.fit(X_train, y_train)\n",
        "y_train_et = ETCmodel.predict(X_train)\n",
        "y_test_et = ETCmodel.predict(X_test)\n",
        "\n",
        "print(ETCmodel)\n",
        "print('Train performance')\n",
        "print('-------------------------------------------------------')\n",
        "print(classification_report(y_train, y_train_et))\n",
        "\n",
        "print('Test performance')\n",
        "print('-------------------------------------------------------')\n",
        "print(classification_report(y_test, y_test_et))\n",
        "\n",
        "print('Roc_auc score')\n",
        "print('-------------------------------------------------------')\n",
        "print(roc_auc_score(y_test, y_test_et))\n",
        "print('')\n",
        "\n",
        "print('Confusion matrix')\n",
        "print('-------------------------------------------------------')\n",
        "print(confusion_matrix(y_test, y_test_et))"
      ],
      "metadata": {
        "colab": {
          "base_uri": "https://localhost:8080/"
        },
        "id": "8R7gq0b83pVF",
        "outputId": "b11b7080-1b27-46dd-df68-1aafc65b0129"
      },
      "execution_count": 61,
      "outputs": [
        {
          "output_type": "stream",
          "name": "stdout",
          "text": [
            "ExtraTreesClassifier(random_state=123)\n",
            "Train performance\n",
            "-------------------------------------------------------\n",
            "              precision    recall  f1-score   support\n",
            "\n",
            "           0       0.82      0.98      0.89      1198\n",
            "           1       0.97      0.79      0.87      1202\n",
            "\n",
            "    accuracy                           0.88      2400\n",
            "   macro avg       0.90      0.88      0.88      2400\n",
            "weighted avg       0.90      0.88      0.88      2400\n",
            "\n",
            "Test performance\n",
            "-------------------------------------------------------\n",
            "              precision    recall  f1-score   support\n",
            "\n",
            "           0       0.81      0.97      0.88       302\n",
            "           1       0.97      0.77      0.85       298\n",
            "\n",
            "    accuracy                           0.87       600\n",
            "   macro avg       0.89      0.87      0.87       600\n",
            "weighted avg       0.89      0.87      0.87       600\n",
            "\n",
            "Roc_auc score\n",
            "-------------------------------------------------------\n",
            "0.8693053024578871\n",
            "\n",
            "Confusion matrix\n",
            "-------------------------------------------------------\n",
            "[[294   8]\n",
            " [ 70 228]]\n"
          ]
        }
      ]
    },
    {
      "cell_type": "code",
      "source": [
        "acc_train_et = accuracy_score(y_train,y_train_et)\n",
        "acc_test_et = accuracy_score(y_test,y_test_et)\n",
        "\n",
        "print(\"ET: Accuracy on training Data: {:.3f}\".format(acc_train_et))\n",
        "print(\"ET: Accuracy on test Data: {:.3f}\".format(acc_test_et))"
      ],
      "metadata": {
        "colab": {
          "base_uri": "https://localhost:8080/"
        },
        "id": "l-8ra6q636YP",
        "outputId": "f69c06dd-f415-400c-a75d-6ef8be7cd1b8"
      },
      "execution_count": 62,
      "outputs": [
        {
          "output_type": "stream",
          "name": "stdout",
          "text": [
            "ET: Accuracy on training Data: 0.884\n",
            "ET: Accuracy on test Data: 0.870\n"
          ]
        }
      ]
    },
    {
      "cell_type": "code",
      "source": [
        "storeResults('ETC', acc_train_et, acc_test_et)\n",
        "     "
      ],
      "metadata": {
        "id": "yPB_4zJY4mX4"
      },
      "execution_count": 63,
      "outputs": []
    },
    {
      "cell_type": "markdown",
      "source": [
        "## COMPARING THE MODELS"
      ],
      "metadata": {
        "id": "13wz-Q-vdwj-"
      }
    },
    {
      "cell_type": "code",
      "source": [
        "#creating dataframe\n",
        "results = pd.DataFrame({ 'ML Model': ML_Model,    \n",
        "    'Train Accuracy': acc_train,\n",
        "    'Test Accuracy': acc_test})\n",
        "results\n",
        "     "
      ],
      "metadata": {
        "id": "48s5F4dl2B1X",
        "colab": {
          "base_uri": "https://localhost:8080/",
          "height": 269
        },
        "outputId": "04ea4112-7c7d-4e3d-dce6-ff74ee1e5970"
      },
      "execution_count": 64,
      "outputs": [
        {
          "output_type": "execute_result",
          "data": {
            "text/plain": [
              "                 ML Model  Train Accuracy  Test Accuracy\n",
              "0           Decision Tree           0.842          0.835\n",
              "1           Random Forest           0.845          0.838\n",
              "2  Multilayer Perceptrons           0.864          0.857\n",
              "3                 XGBoost           0.881          0.870\n",
              "4                     SVM           0.849          0.848\n",
              "5                      KN           0.865          0.850\n",
              "6                     ETC           0.884          0.870"
            ],
            "text/html": [
              "\n",
              "  <div id=\"df-998ac38e-4d68-405e-849e-7694c9a74737\">\n",
              "    <div class=\"colab-df-container\">\n",
              "      <div>\n",
              "<style scoped>\n",
              "    .dataframe tbody tr th:only-of-type {\n",
              "        vertical-align: middle;\n",
              "    }\n",
              "\n",
              "    .dataframe tbody tr th {\n",
              "        vertical-align: top;\n",
              "    }\n",
              "\n",
              "    .dataframe thead th {\n",
              "        text-align: right;\n",
              "    }\n",
              "</style>\n",
              "<table border=\"1\" class=\"dataframe\">\n",
              "  <thead>\n",
              "    <tr style=\"text-align: right;\">\n",
              "      <th></th>\n",
              "      <th>ML Model</th>\n",
              "      <th>Train Accuracy</th>\n",
              "      <th>Test Accuracy</th>\n",
              "    </tr>\n",
              "  </thead>\n",
              "  <tbody>\n",
              "    <tr>\n",
              "      <th>0</th>\n",
              "      <td>Decision Tree</td>\n",
              "      <td>0.842</td>\n",
              "      <td>0.835</td>\n",
              "    </tr>\n",
              "    <tr>\n",
              "      <th>1</th>\n",
              "      <td>Random Forest</td>\n",
              "      <td>0.845</td>\n",
              "      <td>0.838</td>\n",
              "    </tr>\n",
              "    <tr>\n",
              "      <th>2</th>\n",
              "      <td>Multilayer Perceptrons</td>\n",
              "      <td>0.864</td>\n",
              "      <td>0.857</td>\n",
              "    </tr>\n",
              "    <tr>\n",
              "      <th>3</th>\n",
              "      <td>XGBoost</td>\n",
              "      <td>0.881</td>\n",
              "      <td>0.870</td>\n",
              "    </tr>\n",
              "    <tr>\n",
              "      <th>4</th>\n",
              "      <td>SVM</td>\n",
              "      <td>0.849</td>\n",
              "      <td>0.848</td>\n",
              "    </tr>\n",
              "    <tr>\n",
              "      <th>5</th>\n",
              "      <td>KN</td>\n",
              "      <td>0.865</td>\n",
              "      <td>0.850</td>\n",
              "    </tr>\n",
              "    <tr>\n",
              "      <th>6</th>\n",
              "      <td>ETC</td>\n",
              "      <td>0.884</td>\n",
              "      <td>0.870</td>\n",
              "    </tr>\n",
              "  </tbody>\n",
              "</table>\n",
              "</div>\n",
              "      <button class=\"colab-df-convert\" onclick=\"convertToInteractive('df-998ac38e-4d68-405e-849e-7694c9a74737')\"\n",
              "              title=\"Convert this dataframe to an interactive table.\"\n",
              "              style=\"display:none;\">\n",
              "        \n",
              "  <svg xmlns=\"http://www.w3.org/2000/svg\" height=\"24px\"viewBox=\"0 0 24 24\"\n",
              "       width=\"24px\">\n",
              "    <path d=\"M0 0h24v24H0V0z\" fill=\"none\"/>\n",
              "    <path d=\"M18.56 5.44l.94 2.06.94-2.06 2.06-.94-2.06-.94-.94-2.06-.94 2.06-2.06.94zm-11 1L8.5 8.5l.94-2.06 2.06-.94-2.06-.94L8.5 2.5l-.94 2.06-2.06.94zm10 10l.94 2.06.94-2.06 2.06-.94-2.06-.94-.94-2.06-.94 2.06-2.06.94z\"/><path d=\"M17.41 7.96l-1.37-1.37c-.4-.4-.92-.59-1.43-.59-.52 0-1.04.2-1.43.59L10.3 9.45l-7.72 7.72c-.78.78-.78 2.05 0 2.83L4 21.41c.39.39.9.59 1.41.59.51 0 1.02-.2 1.41-.59l7.78-7.78 2.81-2.81c.8-.78.8-2.07 0-2.86zM5.41 20L4 18.59l7.72-7.72 1.47 1.35L5.41 20z\"/>\n",
              "  </svg>\n",
              "      </button>\n",
              "      \n",
              "  <style>\n",
              "    .colab-df-container {\n",
              "      display:flex;\n",
              "      flex-wrap:wrap;\n",
              "      gap: 12px;\n",
              "    }\n",
              "\n",
              "    .colab-df-convert {\n",
              "      background-color: #E8F0FE;\n",
              "      border: none;\n",
              "      border-radius: 50%;\n",
              "      cursor: pointer;\n",
              "      display: none;\n",
              "      fill: #1967D2;\n",
              "      height: 32px;\n",
              "      padding: 0 0 0 0;\n",
              "      width: 32px;\n",
              "    }\n",
              "\n",
              "    .colab-df-convert:hover {\n",
              "      background-color: #E2EBFA;\n",
              "      box-shadow: 0px 1px 2px rgba(60, 64, 67, 0.3), 0px 1px 3px 1px rgba(60, 64, 67, 0.15);\n",
              "      fill: #174EA6;\n",
              "    }\n",
              "\n",
              "    [theme=dark] .colab-df-convert {\n",
              "      background-color: #3B4455;\n",
              "      fill: #D2E3FC;\n",
              "    }\n",
              "\n",
              "    [theme=dark] .colab-df-convert:hover {\n",
              "      background-color: #434B5C;\n",
              "      box-shadow: 0px 1px 3px 1px rgba(0, 0, 0, 0.15);\n",
              "      filter: drop-shadow(0px 1px 2px rgba(0, 0, 0, 0.3));\n",
              "      fill: #FFFFFF;\n",
              "    }\n",
              "  </style>\n",
              "\n",
              "      <script>\n",
              "        const buttonEl =\n",
              "          document.querySelector('#df-998ac38e-4d68-405e-849e-7694c9a74737 button.colab-df-convert');\n",
              "        buttonEl.style.display =\n",
              "          google.colab.kernel.accessAllowed ? 'block' : 'none';\n",
              "\n",
              "        async function convertToInteractive(key) {\n",
              "          const element = document.querySelector('#df-998ac38e-4d68-405e-849e-7694c9a74737');\n",
              "          const dataTable =\n",
              "            await google.colab.kernel.invokeFunction('convertToInteractive',\n",
              "                                                     [key], {});\n",
              "          if (!dataTable) return;\n",
              "\n",
              "          const docLinkHtml = 'Like what you see? Visit the ' +\n",
              "            '<a target=\"_blank\" href=https://colab.research.google.com/notebooks/data_table.ipynb>data table notebook</a>'\n",
              "            + ' to learn more about interactive tables.';\n",
              "          element.innerHTML = '';\n",
              "          dataTable['output_type'] = 'display_data';\n",
              "          await google.colab.output.renderOutput(dataTable, element);\n",
              "          const docLink = document.createElement('div');\n",
              "          docLink.innerHTML = docLinkHtml;\n",
              "          element.appendChild(docLink);\n",
              "        }\n",
              "      </script>\n",
              "    </div>\n",
              "  </div>\n",
              "  "
            ]
          },
          "metadata": {},
          "execution_count": 64
        }
      ]
    },
    {
      "cell_type": "code",
      "source": [
        "results.sort_values(by=['Test Accuracy', 'Train Accuracy'], ascending=False)\n",
        " "
      ],
      "metadata": {
        "id": "LSf0U37Z2Hge",
        "colab": {
          "base_uri": "https://localhost:8080/",
          "height": 269
        },
        "outputId": "2dfa85d3-8e08-4635-f8d2-fb7328f8fb11"
      },
      "execution_count": 65,
      "outputs": [
        {
          "output_type": "execute_result",
          "data": {
            "text/plain": [
              "                 ML Model  Train Accuracy  Test Accuracy\n",
              "6                     ETC           0.884          0.870\n",
              "3                 XGBoost           0.881          0.870\n",
              "2  Multilayer Perceptrons           0.864          0.857\n",
              "5                      KN           0.865          0.850\n",
              "4                     SVM           0.849          0.848\n",
              "1           Random Forest           0.845          0.838\n",
              "0           Decision Tree           0.842          0.835"
            ],
            "text/html": [
              "\n",
              "  <div id=\"df-d25feed8-264d-4348-a33a-b8ef4135e15e\">\n",
              "    <div class=\"colab-df-container\">\n",
              "      <div>\n",
              "<style scoped>\n",
              "    .dataframe tbody tr th:only-of-type {\n",
              "        vertical-align: middle;\n",
              "    }\n",
              "\n",
              "    .dataframe tbody tr th {\n",
              "        vertical-align: top;\n",
              "    }\n",
              "\n",
              "    .dataframe thead th {\n",
              "        text-align: right;\n",
              "    }\n",
              "</style>\n",
              "<table border=\"1\" class=\"dataframe\">\n",
              "  <thead>\n",
              "    <tr style=\"text-align: right;\">\n",
              "      <th></th>\n",
              "      <th>ML Model</th>\n",
              "      <th>Train Accuracy</th>\n",
              "      <th>Test Accuracy</th>\n",
              "    </tr>\n",
              "  </thead>\n",
              "  <tbody>\n",
              "    <tr>\n",
              "      <th>6</th>\n",
              "      <td>ETC</td>\n",
              "      <td>0.884</td>\n",
              "      <td>0.870</td>\n",
              "    </tr>\n",
              "    <tr>\n",
              "      <th>3</th>\n",
              "      <td>XGBoost</td>\n",
              "      <td>0.881</td>\n",
              "      <td>0.870</td>\n",
              "    </tr>\n",
              "    <tr>\n",
              "      <th>2</th>\n",
              "      <td>Multilayer Perceptrons</td>\n",
              "      <td>0.864</td>\n",
              "      <td>0.857</td>\n",
              "    </tr>\n",
              "    <tr>\n",
              "      <th>5</th>\n",
              "      <td>KN</td>\n",
              "      <td>0.865</td>\n",
              "      <td>0.850</td>\n",
              "    </tr>\n",
              "    <tr>\n",
              "      <th>4</th>\n",
              "      <td>SVM</td>\n",
              "      <td>0.849</td>\n",
              "      <td>0.848</td>\n",
              "    </tr>\n",
              "    <tr>\n",
              "      <th>1</th>\n",
              "      <td>Random Forest</td>\n",
              "      <td>0.845</td>\n",
              "      <td>0.838</td>\n",
              "    </tr>\n",
              "    <tr>\n",
              "      <th>0</th>\n",
              "      <td>Decision Tree</td>\n",
              "      <td>0.842</td>\n",
              "      <td>0.835</td>\n",
              "    </tr>\n",
              "  </tbody>\n",
              "</table>\n",
              "</div>\n",
              "      <button class=\"colab-df-convert\" onclick=\"convertToInteractive('df-d25feed8-264d-4348-a33a-b8ef4135e15e')\"\n",
              "              title=\"Convert this dataframe to an interactive table.\"\n",
              "              style=\"display:none;\">\n",
              "        \n",
              "  <svg xmlns=\"http://www.w3.org/2000/svg\" height=\"24px\"viewBox=\"0 0 24 24\"\n",
              "       width=\"24px\">\n",
              "    <path d=\"M0 0h24v24H0V0z\" fill=\"none\"/>\n",
              "    <path d=\"M18.56 5.44l.94 2.06.94-2.06 2.06-.94-2.06-.94-.94-2.06-.94 2.06-2.06.94zm-11 1L8.5 8.5l.94-2.06 2.06-.94-2.06-.94L8.5 2.5l-.94 2.06-2.06.94zm10 10l.94 2.06.94-2.06 2.06-.94-2.06-.94-.94-2.06-.94 2.06-2.06.94z\"/><path d=\"M17.41 7.96l-1.37-1.37c-.4-.4-.92-.59-1.43-.59-.52 0-1.04.2-1.43.59L10.3 9.45l-7.72 7.72c-.78.78-.78 2.05 0 2.83L4 21.41c.39.39.9.59 1.41.59.51 0 1.02-.2 1.41-.59l7.78-7.78 2.81-2.81c.8-.78.8-2.07 0-2.86zM5.41 20L4 18.59l7.72-7.72 1.47 1.35L5.41 20z\"/>\n",
              "  </svg>\n",
              "      </button>\n",
              "      \n",
              "  <style>\n",
              "    .colab-df-container {\n",
              "      display:flex;\n",
              "      flex-wrap:wrap;\n",
              "      gap: 12px;\n",
              "    }\n",
              "\n",
              "    .colab-df-convert {\n",
              "      background-color: #E8F0FE;\n",
              "      border: none;\n",
              "      border-radius: 50%;\n",
              "      cursor: pointer;\n",
              "      display: none;\n",
              "      fill: #1967D2;\n",
              "      height: 32px;\n",
              "      padding: 0 0 0 0;\n",
              "      width: 32px;\n",
              "    }\n",
              "\n",
              "    .colab-df-convert:hover {\n",
              "      background-color: #E2EBFA;\n",
              "      box-shadow: 0px 1px 2px rgba(60, 64, 67, 0.3), 0px 1px 3px 1px rgba(60, 64, 67, 0.15);\n",
              "      fill: #174EA6;\n",
              "    }\n",
              "\n",
              "    [theme=dark] .colab-df-convert {\n",
              "      background-color: #3B4455;\n",
              "      fill: #D2E3FC;\n",
              "    }\n",
              "\n",
              "    [theme=dark] .colab-df-convert:hover {\n",
              "      background-color: #434B5C;\n",
              "      box-shadow: 0px 1px 3px 1px rgba(0, 0, 0, 0.15);\n",
              "      filter: drop-shadow(0px 1px 2px rgba(0, 0, 0, 0.3));\n",
              "      fill: #FFFFFF;\n",
              "    }\n",
              "  </style>\n",
              "\n",
              "      <script>\n",
              "        const buttonEl =\n",
              "          document.querySelector('#df-d25feed8-264d-4348-a33a-b8ef4135e15e button.colab-df-convert');\n",
              "        buttonEl.style.display =\n",
              "          google.colab.kernel.accessAllowed ? 'block' : 'none';\n",
              "\n",
              "        async function convertToInteractive(key) {\n",
              "          const element = document.querySelector('#df-d25feed8-264d-4348-a33a-b8ef4135e15e');\n",
              "          const dataTable =\n",
              "            await google.colab.kernel.invokeFunction('convertToInteractive',\n",
              "                                                     [key], {});\n",
              "          if (!dataTable) return;\n",
              "\n",
              "          const docLinkHtml = 'Like what you see? Visit the ' +\n",
              "            '<a target=\"_blank\" href=https://colab.research.google.com/notebooks/data_table.ipynb>data table notebook</a>'\n",
              "            + ' to learn more about interactive tables.';\n",
              "          element.innerHTML = '';\n",
              "          dataTable['output_type'] = 'display_data';\n",
              "          await google.colab.output.renderOutput(dataTable, element);\n",
              "          const docLink = document.createElement('div');\n",
              "          docLink.innerHTML = docLinkHtml;\n",
              "          element.appendChild(docLink);\n",
              "        }\n",
              "      </script>\n",
              "    </div>\n",
              "  </div>\n",
              "  "
            ]
          },
          "metadata": {},
          "execution_count": 65
        }
      ]
    },
    {
      "cell_type": "markdown",
      "source": [
        "# HYPERPARAMETER TUNING"
      ],
      "metadata": {
        "id": "YkwlTFiYd8Hj"
      }
    },
    {
      "cell_type": "code",
      "source": [
        "from sklearn.model_selection import GridSearchCV, KFold\n",
        "params = {\n",
        "    'hidden_layer_sizes': [(10,30,10),(20,)],\n",
        "    'activation': ['tanh', 'relu','softmax'],\n",
        "    'solver': ['sgd', 'adam'],\n",
        "    'alpha': [0.0001,0.01, 0.05,0.1],\n",
        "    'learning_rate': ['constant','adaptive'],\n",
        "}\n",
        "gs1 =  GridSearchCV( MLPClassifier(max_iter=100), params, n_jobs=-1, cv=KFold(n_splits=3), scoring='roc_auc')\n",
        "gs1.fit(X_train, y_train)\n",
        "\n",
        "print('Best score:', gs1.best_score_)\n",
        "print('Best score:', gs1.best_params_)"
      ],
      "metadata": {
        "colab": {
          "base_uri": "https://localhost:8080/"
        },
        "id": "fw6MBxAR6-Wh",
        "outputId": "621d1afd-c872-484b-8b21-2f99405b1b81"
      },
      "execution_count": 68,
      "outputs": [
        {
          "output_type": "stream",
          "name": "stderr",
          "text": [
            "/usr/local/lib/python3.8/dist-packages/sklearn/model_selection/_validation.py:372: FitFailedWarning: \n",
            "96 fits failed out of a total of 288.\n",
            "The score on these train-test partitions for these parameters will be set to nan.\n",
            "If these failures are not expected, you can try to debug them by setting error_score='raise'.\n",
            "\n",
            "Below are more details about the failures:\n",
            "--------------------------------------------------------------------------------\n",
            "96 fits failed with the following error:\n",
            "Traceback (most recent call last):\n",
            "  File \"/usr/local/lib/python3.8/dist-packages/sklearn/model_selection/_validation.py\", line 680, in _fit_and_score\n",
            "    estimator.fit(X_train, y_train, **fit_params)\n",
            "  File \"/usr/local/lib/python3.8/dist-packages/sklearn/neural_network/_multilayer_perceptron.py\", line 752, in fit\n",
            "    return self._fit(X, y, incremental=False)\n",
            "  File \"/usr/local/lib/python3.8/dist-packages/sklearn/neural_network/_multilayer_perceptron.py\", line 427, in _fit\n",
            "    self._fit_stochastic(\n",
            "  File \"/usr/local/lib/python3.8/dist-packages/sklearn/neural_network/_multilayer_perceptron.py\", line 635, in _fit_stochastic\n",
            "    batch_loss, coef_grads, intercept_grads = self._backprop(\n",
            "  File \"/usr/local/lib/python3.8/dist-packages/sklearn/neural_network/_multilayer_perceptron.py\", line 307, in _backprop\n",
            "    inplace_derivative = DERIVATIVES[self.activation]\n",
            "KeyError: 'softmax'\n",
            "\n",
            "  warnings.warn(some_fits_failed_message, FitFailedWarning)\n",
            "/usr/local/lib/python3.8/dist-packages/sklearn/model_selection/_search.py:969: UserWarning: One or more of the test scores are non-finite: [0.90294491 0.92813814 0.90421704 0.92753465 0.88694024 0.92244882\n",
            " 0.87036013 0.92408    0.89468598 0.93037661 0.89081156 0.92699882\n",
            " 0.87577321 0.92728247 0.86417583 0.92568424 0.89721354 0.92974395\n",
            " 0.87408731 0.92854555 0.8696713  0.92695181 0.87758167 0.92533788\n",
            " 0.88403869 0.93125804 0.88359242 0.9273099  0.8798693  0.92528229\n",
            " 0.86391131 0.92769014 0.86190442 0.92829585 0.88442916 0.92752141\n",
            " 0.87067489 0.92372839 0.86457663 0.92626058 0.81816811 0.92788143\n",
            " 0.84427484 0.92725716 0.85414683 0.92390734 0.88294566 0.92444915\n",
            " 0.82067284 0.92964645 0.75840154 0.92838193 0.87652448 0.92265977\n",
            " 0.8492951  0.92709742 0.86802972 0.93126677 0.87355466 0.92868496\n",
            " 0.85880079 0.92547002 0.88162874 0.92557255        nan        nan\n",
            "        nan        nan        nan        nan        nan        nan\n",
            "        nan        nan        nan        nan        nan        nan\n",
            "        nan        nan        nan        nan        nan        nan\n",
            "        nan        nan        nan        nan        nan        nan\n",
            "        nan        nan        nan        nan        nan        nan]\n",
            "  warnings.warn(\n"
          ]
        },
        {
          "output_type": "stream",
          "name": "stdout",
          "text": [
            "Best score: 0.9312667749060805\n",
            "Best score: {'activation': 'relu', 'alpha': 0.1, 'hidden_layer_sizes': (10, 30, 10), 'learning_rate': 'constant', 'solver': 'adam'}\n"
          ]
        },
        {
          "output_type": "stream",
          "name": "stderr",
          "text": [
            "/usr/local/lib/python3.8/dist-packages/sklearn/neural_network/_multilayer_perceptron.py:692: ConvergenceWarning: Stochastic Optimizer: Maximum iterations (100) reached and the optimization hasn't converged yet.\n",
            "  warnings.warn(\n"
          ]
        }
      ]
    },
    {
      "cell_type": "code",
      "source": [
        "\n",
        "params = {\n",
        "    'n_estimators': [100, 200, 500],\n",
        "    'learning_rate': [0.01,0.05,0.1],\n",
        "    'booster': ['gbtree', 'gblinear'],\n",
        "    'gamma': [0, 0.5, 1],\n",
        "    'reg_alpha': [0, 0.5, 1],\n",
        "    'reg_lambda': [0.5, 1, 5],\n",
        "    'base_score': [0.2, 0.5, 1]\n",
        "}\n",
        "\n",
        "gs2 = GridSearchCV(XGBClassifier(n_jobs=-1), params, n_jobs=-1, cv=KFold(n_splits=3), scoring='roc_auc')\n",
        "gs2.fit(X_train, y_train)\n",
        "\n",
        "print('Best score:', gs2.best_score_)\n",
        "print('Best score:', gs2.best_params_)"
      ],
      "metadata": {
        "colab": {
          "base_uri": "https://localhost:8080/"
        },
        "id": "H3IU1AfVyyXu",
        "outputId": "1a548c1e-64ef-4846-b84c-d7a5d19b2359"
      },
      "execution_count": 69,
      "outputs": [
        {
          "output_type": "stream",
          "name": "stderr",
          "text": [
            "/usr/local/lib/python3.8/dist-packages/sklearn/model_selection/_validation.py:372: FitFailedWarning: \n",
            "1458 fits failed out of a total of 4374.\n",
            "The score on these train-test partitions for these parameters will be set to nan.\n",
            "If these failures are not expected, you can try to debug them by setting error_score='raise'.\n",
            "\n",
            "Below are more details about the failures:\n",
            "--------------------------------------------------------------------------------\n",
            "80 fits failed with the following error:\n",
            "Traceback (most recent call last):\n",
            "  File \"/usr/local/lib/python3.8/dist-packages/sklearn/model_selection/_validation.py\", line 680, in _fit_and_score\n",
            "    estimator.fit(X_train, y_train, **fit_params)\n",
            "  File \"/usr/local/lib/python3.8/dist-packages/xgboost/sklearn.py\", line 728, in fit\n",
            "    self._Booster = train(xgb_options, train_dmatrix, self.get_num_boosting_rounds(),\n",
            "  File \"/usr/local/lib/python3.8/dist-packages/xgboost/training.py\", line 212, in train\n",
            "    return _train_internal(params, dtrain,\n",
            "  File \"/usr/local/lib/python3.8/dist-packages/xgboost/training.py\", line 74, in _train_internal\n",
            "    bst.update(dtrain, i, obj)\n",
            "  File \"/usr/local/lib/python3.8/dist-packages/xgboost/core.py\", line 1108, in update\n",
            "    _check_call(_LIB.XGBoosterUpdateOneIter(self.handle, ctypes.c_int(iteration),\n",
            "  File \"/usr/local/lib/python3.8/dist-packages/xgboost/core.py\", line 176, in _check_call\n",
            "    raise XGBoostError(py_str(_LIB.XGBGetLastError()))\n",
            "xgboost.core.XGBoostError: [17:48:13] /workspace/src/objective/./regression_loss.h:62: Check failed: base_score > 0.0f && base_score < 1.0f: base_score must be in (0,1) for logistic loss\n",
            "Stack trace:\n",
            "  [bt] (0) /usr/local/lib/python3.8/dist-packages/xgboost/./lib/libxgboost.so(dmlc::LogMessageFatal::~LogMessageFatal()+0x24) [0x7f0c1e125cb4]\n",
            "  [bt] (1) /usr/local/lib/python3.8/dist-packages/xgboost/./lib/libxgboost.so(xgboost::obj::LogisticRegression::ProbToMargin(float)+0x82) [0x7f0c1e325eb2]\n",
            "  [bt] (2) /usr/local/lib/python3.8/dist-packages/xgboost/./lib/libxgboost.so(xgboost::LearnerImpl::LazyInitModel()+0x48a) [0x7f0c1e1bb0ba]\n",
            "  [bt] (3) /usr/local/lib/python3.8/dist-packages/xgboost/./lib/libxgboost.so(XGBoosterUpdateOneIter+0x52) [0x7f0c1e122ac2]\n",
            "  [bt] (4) /usr/lib/x86_64-linux-gnu/libffi.so.6(ffi_call_unix64+0x4c) [0x7f0c37edadae]\n",
            "  [bt] (5) /usr/lib/x86_64-linux-gnu/libffi.so.6(ffi_call+0x22f) [0x7f0c37eda71f]\n",
            "  [bt] (6) /usr/lib/python3.8/lib-dynload/_ctypes.cpython-38-x86_64-linux-gnu.so(_ctypes_callproc+0x8ce) [0x7f0c380f034e]\n",
            "  [bt] (7) /usr/lib/python3.8/lib-dynload/_ctypes.cpython-38-x86_64-linux-gnu.so(+0xe4e4) [0x7f0c380eb4e4]\n",
            "  [bt] (8) /usr/bin/python3(_PyObject_MakeTpCall+0x34c) [0x5d8d8c]\n",
            "\n",
            "\n",
            "\n",
            "--------------------------------------------------------------------------------\n",
            "186 fits failed with the following error:\n",
            "Traceback (most recent call last):\n",
            "  File \"/usr/local/lib/python3.8/dist-packages/sklearn/model_selection/_validation.py\", line 680, in _fit_and_score\n",
            "    estimator.fit(X_train, y_train, **fit_params)\n",
            "  File \"/usr/local/lib/python3.8/dist-packages/xgboost/sklearn.py\", line 728, in fit\n",
            "    self._Booster = train(xgb_options, train_dmatrix, self.get_num_boosting_rounds(),\n",
            "  File \"/usr/local/lib/python3.8/dist-packages/xgboost/training.py\", line 212, in train\n",
            "    return _train_internal(params, dtrain,\n",
            "  File \"/usr/local/lib/python3.8/dist-packages/xgboost/training.py\", line 74, in _train_internal\n",
            "    bst.update(dtrain, i, obj)\n",
            "  File \"/usr/local/lib/python3.8/dist-packages/xgboost/core.py\", line 1108, in update\n",
            "    _check_call(_LIB.XGBoosterUpdateOneIter(self.handle, ctypes.c_int(iteration),\n",
            "  File \"/usr/local/lib/python3.8/dist-packages/xgboost/core.py\", line 176, in _check_call\n",
            "    raise XGBoostError(py_str(_LIB.XGBGetLastError()))\n",
            "xgboost.core.XGBoostError: [17:48:14] /workspace/src/objective/./regression_loss.h:62: Check failed: base_score > 0.0f && base_score < 1.0f: base_score must be in (0,1) for logistic loss\n",
            "Stack trace:\n",
            "  [bt] (0) /usr/local/lib/python3.8/dist-packages/xgboost/./lib/libxgboost.so(dmlc::LogMessageFatal::~LogMessageFatal()+0x24) [0x7f0c1e125cb4]\n",
            "  [bt] (1) /usr/local/lib/python3.8/dist-packages/xgboost/./lib/libxgboost.so(xgboost::obj::LogisticRegression::ProbToMargin(float)+0x82) [0x7f0c1e325eb2]\n",
            "  [bt] (2) /usr/local/lib/python3.8/dist-packages/xgboost/./lib/libxgboost.so(xgboost::LearnerImpl::LazyInitModel()+0x48a) [0x7f0c1e1bb0ba]\n",
            "  [bt] (3) /usr/local/lib/python3.8/dist-packages/xgboost/./lib/libxgboost.so(XGBoosterUpdateOneIter+0x52) [0x7f0c1e122ac2]\n",
            "  [bt] (4) /usr/lib/x86_64-linux-gnu/libffi.so.6(ffi_call_unix64+0x4c) [0x7f0c37edadae]\n",
            "  [bt] (5) /usr/lib/x86_64-linux-gnu/libffi.so.6(ffi_call+0x22f) [0x7f0c37eda71f]\n",
            "  [bt] (6) /usr/lib/python3.8/lib-dynload/_ctypes.cpython-38-x86_64-linux-gnu.so(_ctypes_callproc+0x8ce) [0x7f0c380f034e]\n",
            "  [bt] (7) /usr/lib/python3.8/lib-dynload/_ctypes.cpython-38-x86_64-linux-gnu.so(+0xe4e4) [0x7f0c380eb4e4]\n",
            "  [bt] (8) /usr/bin/python3(_PyObject_MakeTpCall+0x34c) [0x5d8d8c]\n",
            "\n",
            "\n",
            "\n",
            "--------------------------------------------------------------------------------\n",
            "153 fits failed with the following error:\n",
            "Traceback (most recent call last):\n",
            "  File \"/usr/local/lib/python3.8/dist-packages/sklearn/model_selection/_validation.py\", line 680, in _fit_and_score\n",
            "    estimator.fit(X_train, y_train, **fit_params)\n",
            "  File \"/usr/local/lib/python3.8/dist-packages/xgboost/sklearn.py\", line 728, in fit\n",
            "    self._Booster = train(xgb_options, train_dmatrix, self.get_num_boosting_rounds(),\n",
            "  File \"/usr/local/lib/python3.8/dist-packages/xgboost/training.py\", line 212, in train\n",
            "    return _train_internal(params, dtrain,\n",
            "  File \"/usr/local/lib/python3.8/dist-packages/xgboost/training.py\", line 74, in _train_internal\n",
            "    bst.update(dtrain, i, obj)\n",
            "  File \"/usr/local/lib/python3.8/dist-packages/xgboost/core.py\", line 1108, in update\n",
            "    _check_call(_LIB.XGBoosterUpdateOneIter(self.handle, ctypes.c_int(iteration),\n",
            "  File \"/usr/local/lib/python3.8/dist-packages/xgboost/core.py\", line 176, in _check_call\n",
            "    raise XGBoostError(py_str(_LIB.XGBGetLastError()))\n",
            "xgboost.core.XGBoostError: [17:48:14] /workspace/src/objective/./regression_loss.h:62: Check failed: base_score > 0.0f && base_score < 1.0f: base_score must be in (0,1) for logistic loss\n",
            "Stack trace:\n",
            "  [bt] (0) /usr/local/lib/python3.8/dist-packages/xgboost/./lib/libxgboost.so(dmlc::LogMessageFatal::~LogMessageFatal()+0x24) [0x7f0d7a770cb4]\n",
            "  [bt] (1) /usr/local/lib/python3.8/dist-packages/xgboost/./lib/libxgboost.so(xgboost::obj::LogisticRegression::ProbToMargin(float)+0x82) [0x7f0d7a970eb2]\n",
            "  [bt] (2) /usr/local/lib/python3.8/dist-packages/xgboost/./lib/libxgboost.so(xgboost::LearnerImpl::LazyInitModel()+0x48a) [0x7f0d7a8060ba]\n",
            "  [bt] (3) /usr/local/lib/python3.8/dist-packages/xgboost/./lib/libxgboost.so(XGBoosterUpdateOneIter+0x52) [0x7f0d7a76dac2]\n",
            "  [bt] (4) /usr/lib/x86_64-linux-gnu/libffi.so.6(ffi_call_unix64+0x4c) [0x7f0d94529dae]\n",
            "  [bt] (5) /usr/lib/x86_64-linux-gnu/libffi.so.6(ffi_call+0x22f) [0x7f0d9452971f]\n",
            "  [bt] (6) /usr/lib/python3.8/lib-dynload/_ctypes.cpython-38-x86_64-linux-gnu.so(_ctypes_callproc+0x8ce) [0x7f0d9473f34e]\n",
            "  [bt] (7) /usr/lib/python3.8/lib-dynload/_ctypes.cpython-38-x86_64-linux-gnu.so(+0xe4e4) [0x7f0d9473a4e4]\n",
            "  [bt] (8) /usr/bin/python3(_PyObject_MakeTpCall+0x34c) [0x5d8d8c]\n",
            "\n",
            "\n",
            "\n",
            "--------------------------------------------------------------------------------\n",
            "186 fits failed with the following error:\n",
            "Traceback (most recent call last):\n",
            "  File \"/usr/local/lib/python3.8/dist-packages/sklearn/model_selection/_validation.py\", line 680, in _fit_and_score\n",
            "    estimator.fit(X_train, y_train, **fit_params)\n",
            "  File \"/usr/local/lib/python3.8/dist-packages/xgboost/sklearn.py\", line 728, in fit\n",
            "    self._Booster = train(xgb_options, train_dmatrix, self.get_num_boosting_rounds(),\n",
            "  File \"/usr/local/lib/python3.8/dist-packages/xgboost/training.py\", line 212, in train\n",
            "    return _train_internal(params, dtrain,\n",
            "  File \"/usr/local/lib/python3.8/dist-packages/xgboost/training.py\", line 74, in _train_internal\n",
            "    bst.update(dtrain, i, obj)\n",
            "  File \"/usr/local/lib/python3.8/dist-packages/xgboost/core.py\", line 1108, in update\n",
            "    _check_call(_LIB.XGBoosterUpdateOneIter(self.handle, ctypes.c_int(iteration),\n",
            "  File \"/usr/local/lib/python3.8/dist-packages/xgboost/core.py\", line 176, in _check_call\n",
            "    raise XGBoostError(py_str(_LIB.XGBGetLastError()))\n",
            "xgboost.core.XGBoostError: [17:48:15] /workspace/src/objective/./regression_loss.h:62: Check failed: base_score > 0.0f && base_score < 1.0f: base_score must be in (0,1) for logistic loss\n",
            "Stack trace:\n",
            "  [bt] (0) /usr/local/lib/python3.8/dist-packages/xgboost/./lib/libxgboost.so(dmlc::LogMessageFatal::~LogMessageFatal()+0x24) [0x7f0c1e125cb4]\n",
            "  [bt] (1) /usr/local/lib/python3.8/dist-packages/xgboost/./lib/libxgboost.so(xgboost::obj::LogisticRegression::ProbToMargin(float)+0x82) [0x7f0c1e325eb2]\n",
            "  [bt] (2) /usr/local/lib/python3.8/dist-packages/xgboost/./lib/libxgboost.so(xgboost::LearnerImpl::LazyInitModel()+0x48a) [0x7f0c1e1bb0ba]\n",
            "  [bt] (3) /usr/local/lib/python3.8/dist-packages/xgboost/./lib/libxgboost.so(XGBoosterUpdateOneIter+0x52) [0x7f0c1e122ac2]\n",
            "  [bt] (4) /usr/lib/x86_64-linux-gnu/libffi.so.6(ffi_call_unix64+0x4c) [0x7f0c37edadae]\n",
            "  [bt] (5) /usr/lib/x86_64-linux-gnu/libffi.so.6(ffi_call+0x22f) [0x7f0c37eda71f]\n",
            "  [bt] (6) /usr/lib/python3.8/lib-dynload/_ctypes.cpython-38-x86_64-linux-gnu.so(_ctypes_callproc+0x8ce) [0x7f0c380f034e]\n",
            "  [bt] (7) /usr/lib/python3.8/lib-dynload/_ctypes.cpython-38-x86_64-linux-gnu.so(+0xe4e4) [0x7f0c380eb4e4]\n",
            "  [bt] (8) /usr/bin/python3(_PyObject_MakeTpCall+0x34c) [0x5d8d8c]\n",
            "\n",
            "\n",
            "\n",
            "--------------------------------------------------------------------------------\n",
            "187 fits failed with the following error:\n",
            "Traceback (most recent call last):\n",
            "  File \"/usr/local/lib/python3.8/dist-packages/sklearn/model_selection/_validation.py\", line 680, in _fit_and_score\n",
            "    estimator.fit(X_train, y_train, **fit_params)\n",
            "  File \"/usr/local/lib/python3.8/dist-packages/xgboost/sklearn.py\", line 728, in fit\n",
            "    self._Booster = train(xgb_options, train_dmatrix, self.get_num_boosting_rounds(),\n",
            "  File \"/usr/local/lib/python3.8/dist-packages/xgboost/training.py\", line 212, in train\n",
            "    return _train_internal(params, dtrain,\n",
            "  File \"/usr/local/lib/python3.8/dist-packages/xgboost/training.py\", line 74, in _train_internal\n",
            "    bst.update(dtrain, i, obj)\n",
            "  File \"/usr/local/lib/python3.8/dist-packages/xgboost/core.py\", line 1108, in update\n",
            "    _check_call(_LIB.XGBoosterUpdateOneIter(self.handle, ctypes.c_int(iteration),\n",
            "  File \"/usr/local/lib/python3.8/dist-packages/xgboost/core.py\", line 176, in _check_call\n",
            "    raise XGBoostError(py_str(_LIB.XGBGetLastError()))\n",
            "xgboost.core.XGBoostError: [17:48:15] /workspace/src/objective/./regression_loss.h:62: Check failed: base_score > 0.0f && base_score < 1.0f: base_score must be in (0,1) for logistic loss\n",
            "Stack trace:\n",
            "  [bt] (0) /usr/local/lib/python3.8/dist-packages/xgboost/./lib/libxgboost.so(dmlc::LogMessageFatal::~LogMessageFatal()+0x24) [0x7f0d7a770cb4]\n",
            "  [bt] (1) /usr/local/lib/python3.8/dist-packages/xgboost/./lib/libxgboost.so(xgboost::obj::LogisticRegression::ProbToMargin(float)+0x82) [0x7f0d7a970eb2]\n",
            "  [bt] (2) /usr/local/lib/python3.8/dist-packages/xgboost/./lib/libxgboost.so(xgboost::LearnerImpl::LazyInitModel()+0x48a) [0x7f0d7a8060ba]\n",
            "  [bt] (3) /usr/local/lib/python3.8/dist-packages/xgboost/./lib/libxgboost.so(XGBoosterUpdateOneIter+0x52) [0x7f0d7a76dac2]\n",
            "  [bt] (4) /usr/lib/x86_64-linux-gnu/libffi.so.6(ffi_call_unix64+0x4c) [0x7f0d94529dae]\n",
            "  [bt] (5) /usr/lib/x86_64-linux-gnu/libffi.so.6(ffi_call+0x22f) [0x7f0d9452971f]\n",
            "  [bt] (6) /usr/lib/python3.8/lib-dynload/_ctypes.cpython-38-x86_64-linux-gnu.so(_ctypes_callproc+0x8ce) [0x7f0d9473f34e]\n",
            "  [bt] (7) /usr/lib/python3.8/lib-dynload/_ctypes.cpython-38-x86_64-linux-gnu.so(+0xe4e4) [0x7f0d9473a4e4]\n",
            "  [bt] (8) /usr/bin/python3(_PyObject_MakeTpCall+0x34c) [0x5d8d8c]\n",
            "\n",
            "\n",
            "\n",
            "--------------------------------------------------------------------------------\n",
            "189 fits failed with the following error:\n",
            "Traceback (most recent call last):\n",
            "  File \"/usr/local/lib/python3.8/dist-packages/sklearn/model_selection/_validation.py\", line 680, in _fit_and_score\n",
            "    estimator.fit(X_train, y_train, **fit_params)\n",
            "  File \"/usr/local/lib/python3.8/dist-packages/xgboost/sklearn.py\", line 728, in fit\n",
            "    self._Booster = train(xgb_options, train_dmatrix, self.get_num_boosting_rounds(),\n",
            "  File \"/usr/local/lib/python3.8/dist-packages/xgboost/training.py\", line 212, in train\n",
            "    return _train_internal(params, dtrain,\n",
            "  File \"/usr/local/lib/python3.8/dist-packages/xgboost/training.py\", line 74, in _train_internal\n",
            "    bst.update(dtrain, i, obj)\n",
            "  File \"/usr/local/lib/python3.8/dist-packages/xgboost/core.py\", line 1108, in update\n",
            "    _check_call(_LIB.XGBoosterUpdateOneIter(self.handle, ctypes.c_int(iteration),\n",
            "  File \"/usr/local/lib/python3.8/dist-packages/xgboost/core.py\", line 176, in _check_call\n",
            "    raise XGBoostError(py_str(_LIB.XGBGetLastError()))\n",
            "xgboost.core.XGBoostError: [17:48:16] /workspace/src/objective/./regression_loss.h:62: Check failed: base_score > 0.0f && base_score < 1.0f: base_score must be in (0,1) for logistic loss\n",
            "Stack trace:\n",
            "  [bt] (0) /usr/local/lib/python3.8/dist-packages/xgboost/./lib/libxgboost.so(dmlc::LogMessageFatal::~LogMessageFatal()+0x24) [0x7f0c1e125cb4]\n",
            "  [bt] (1) /usr/local/lib/python3.8/dist-packages/xgboost/./lib/libxgboost.so(xgboost::obj::LogisticRegression::ProbToMargin(float)+0x82) [0x7f0c1e325eb2]\n",
            "  [bt] (2) /usr/local/lib/python3.8/dist-packages/xgboost/./lib/libxgboost.so(xgboost::LearnerImpl::LazyInitModel()+0x48a) [0x7f0c1e1bb0ba]\n",
            "  [bt] (3) /usr/local/lib/python3.8/dist-packages/xgboost/./lib/libxgboost.so(XGBoosterUpdateOneIter+0x52) [0x7f0c1e122ac2]\n",
            "  [bt] (4) /usr/lib/x86_64-linux-gnu/libffi.so.6(ffi_call_unix64+0x4c) [0x7f0c37edadae]\n",
            "  [bt] (5) /usr/lib/x86_64-linux-gnu/libffi.so.6(ffi_call+0x22f) [0x7f0c37eda71f]\n",
            "  [bt] (6) /usr/lib/python3.8/lib-dynload/_ctypes.cpython-38-x86_64-linux-gnu.so(_ctypes_callproc+0x8ce) [0x7f0c380f034e]\n",
            "  [bt] (7) /usr/lib/python3.8/lib-dynload/_ctypes.cpython-38-x86_64-linux-gnu.so(+0xe4e4) [0x7f0c380eb4e4]\n",
            "  [bt] (8) /usr/bin/python3(_PyObject_MakeTpCall+0x34c) [0x5d8d8c]\n",
            "\n",
            "\n",
            "\n",
            "--------------------------------------------------------------------------------\n",
            "188 fits failed with the following error:\n",
            "Traceback (most recent call last):\n",
            "  File \"/usr/local/lib/python3.8/dist-packages/sklearn/model_selection/_validation.py\", line 680, in _fit_and_score\n",
            "    estimator.fit(X_train, y_train, **fit_params)\n",
            "  File \"/usr/local/lib/python3.8/dist-packages/xgboost/sklearn.py\", line 728, in fit\n",
            "    self._Booster = train(xgb_options, train_dmatrix, self.get_num_boosting_rounds(),\n",
            "  File \"/usr/local/lib/python3.8/dist-packages/xgboost/training.py\", line 212, in train\n",
            "    return _train_internal(params, dtrain,\n",
            "  File \"/usr/local/lib/python3.8/dist-packages/xgboost/training.py\", line 74, in _train_internal\n",
            "    bst.update(dtrain, i, obj)\n",
            "  File \"/usr/local/lib/python3.8/dist-packages/xgboost/core.py\", line 1108, in update\n",
            "    _check_call(_LIB.XGBoosterUpdateOneIter(self.handle, ctypes.c_int(iteration),\n",
            "  File \"/usr/local/lib/python3.8/dist-packages/xgboost/core.py\", line 176, in _check_call\n",
            "    raise XGBoostError(py_str(_LIB.XGBGetLastError()))\n",
            "xgboost.core.XGBoostError: [17:48:16] /workspace/src/objective/./regression_loss.h:62: Check failed: base_score > 0.0f && base_score < 1.0f: base_score must be in (0,1) for logistic loss\n",
            "Stack trace:\n",
            "  [bt] (0) /usr/local/lib/python3.8/dist-packages/xgboost/./lib/libxgboost.so(dmlc::LogMessageFatal::~LogMessageFatal()+0x24) [0x7f0d7a770cb4]\n",
            "  [bt] (1) /usr/local/lib/python3.8/dist-packages/xgboost/./lib/libxgboost.so(xgboost::obj::LogisticRegression::ProbToMargin(float)+0x82) [0x7f0d7a970eb2]\n",
            "  [bt] (2) /usr/local/lib/python3.8/dist-packages/xgboost/./lib/libxgboost.so(xgboost::LearnerImpl::LazyInitModel()+0x48a) [0x7f0d7a8060ba]\n",
            "  [bt] (3) /usr/local/lib/python3.8/dist-packages/xgboost/./lib/libxgboost.so(XGBoosterUpdateOneIter+0x52) [0x7f0d7a76dac2]\n",
            "  [bt] (4) /usr/lib/x86_64-linux-gnu/libffi.so.6(ffi_call_unix64+0x4c) [0x7f0d94529dae]\n",
            "  [bt] (5) /usr/lib/x86_64-linux-gnu/libffi.so.6(ffi_call+0x22f) [0x7f0d9452971f]\n",
            "  [bt] (6) /usr/lib/python3.8/lib-dynload/_ctypes.cpython-38-x86_64-linux-gnu.so(_ctypes_callproc+0x8ce) [0x7f0d9473f34e]\n",
            "  [bt] (7) /usr/lib/python3.8/lib-dynload/_ctypes.cpython-38-x86_64-linux-gnu.so(+0xe4e4) [0x7f0d9473a4e4]\n",
            "  [bt] (8) /usr/bin/python3(_PyObject_MakeTpCall+0x34c) [0x5d8d8c]\n",
            "\n",
            "\n",
            "\n",
            "--------------------------------------------------------------------------------\n",
            "143 fits failed with the following error:\n",
            "Traceback (most recent call last):\n",
            "  File \"/usr/local/lib/python3.8/dist-packages/sklearn/model_selection/_validation.py\", line 680, in _fit_and_score\n",
            "    estimator.fit(X_train, y_train, **fit_params)\n",
            "  File \"/usr/local/lib/python3.8/dist-packages/xgboost/sklearn.py\", line 728, in fit\n",
            "    self._Booster = train(xgb_options, train_dmatrix, self.get_num_boosting_rounds(),\n",
            "  File \"/usr/local/lib/python3.8/dist-packages/xgboost/training.py\", line 212, in train\n",
            "    return _train_internal(params, dtrain,\n",
            "  File \"/usr/local/lib/python3.8/dist-packages/xgboost/training.py\", line 74, in _train_internal\n",
            "    bst.update(dtrain, i, obj)\n",
            "  File \"/usr/local/lib/python3.8/dist-packages/xgboost/core.py\", line 1108, in update\n",
            "    _check_call(_LIB.XGBoosterUpdateOneIter(self.handle, ctypes.c_int(iteration),\n",
            "  File \"/usr/local/lib/python3.8/dist-packages/xgboost/core.py\", line 176, in _check_call\n",
            "    raise XGBoostError(py_str(_LIB.XGBGetLastError()))\n",
            "xgboost.core.XGBoostError: [17:48:17] /workspace/src/objective/./regression_loss.h:62: Check failed: base_score > 0.0f && base_score < 1.0f: base_score must be in (0,1) for logistic loss\n",
            "Stack trace:\n",
            "  [bt] (0) /usr/local/lib/python3.8/dist-packages/xgboost/./lib/libxgboost.so(dmlc::LogMessageFatal::~LogMessageFatal()+0x24) [0x7f0c1e125cb4]\n",
            "  [bt] (1) /usr/local/lib/python3.8/dist-packages/xgboost/./lib/libxgboost.so(xgboost::obj::LogisticRegression::ProbToMargin(float)+0x82) [0x7f0c1e325eb2]\n",
            "  [bt] (2) /usr/local/lib/python3.8/dist-packages/xgboost/./lib/libxgboost.so(xgboost::LearnerImpl::LazyInitModel()+0x48a) [0x7f0c1e1bb0ba]\n",
            "  [bt] (3) /usr/local/lib/python3.8/dist-packages/xgboost/./lib/libxgboost.so(XGBoosterUpdateOneIter+0x52) [0x7f0c1e122ac2]\n",
            "  [bt] (4) /usr/lib/x86_64-linux-gnu/libffi.so.6(ffi_call_unix64+0x4c) [0x7f0c37edadae]\n",
            "  [bt] (5) /usr/lib/x86_64-linux-gnu/libffi.so.6(ffi_call+0x22f) [0x7f0c37eda71f]\n",
            "  [bt] (6) /usr/lib/python3.8/lib-dynload/_ctypes.cpython-38-x86_64-linux-gnu.so(_ctypes_callproc+0x8ce) [0x7f0c380f034e]\n",
            "  [bt] (7) /usr/lib/python3.8/lib-dynload/_ctypes.cpython-38-x86_64-linux-gnu.so(+0xe4e4) [0x7f0c380eb4e4]\n",
            "  [bt] (8) /usr/bin/python3(_PyObject_MakeTpCall+0x34c) [0x5d8d8c]\n",
            "\n",
            "\n",
            "\n",
            "--------------------------------------------------------------------------------\n",
            "146 fits failed with the following error:\n",
            "Traceback (most recent call last):\n",
            "  File \"/usr/local/lib/python3.8/dist-packages/sklearn/model_selection/_validation.py\", line 680, in _fit_and_score\n",
            "    estimator.fit(X_train, y_train, **fit_params)\n",
            "  File \"/usr/local/lib/python3.8/dist-packages/xgboost/sklearn.py\", line 728, in fit\n",
            "    self._Booster = train(xgb_options, train_dmatrix, self.get_num_boosting_rounds(),\n",
            "  File \"/usr/local/lib/python3.8/dist-packages/xgboost/training.py\", line 212, in train\n",
            "    return _train_internal(params, dtrain,\n",
            "  File \"/usr/local/lib/python3.8/dist-packages/xgboost/training.py\", line 74, in _train_internal\n",
            "    bst.update(dtrain, i, obj)\n",
            "  File \"/usr/local/lib/python3.8/dist-packages/xgboost/core.py\", line 1108, in update\n",
            "    _check_call(_LIB.XGBoosterUpdateOneIter(self.handle, ctypes.c_int(iteration),\n",
            "  File \"/usr/local/lib/python3.8/dist-packages/xgboost/core.py\", line 176, in _check_call\n",
            "    raise XGBoostError(py_str(_LIB.XGBGetLastError()))\n",
            "xgboost.core.XGBoostError: [17:48:17] /workspace/src/objective/./regression_loss.h:62: Check failed: base_score > 0.0f && base_score < 1.0f: base_score must be in (0,1) for logistic loss\n",
            "Stack trace:\n",
            "  [bt] (0) /usr/local/lib/python3.8/dist-packages/xgboost/./lib/libxgboost.so(dmlc::LogMessageFatal::~LogMessageFatal()+0x24) [0x7f0d7a770cb4]\n",
            "  [bt] (1) /usr/local/lib/python3.8/dist-packages/xgboost/./lib/libxgboost.so(xgboost::obj::LogisticRegression::ProbToMargin(float)+0x82) [0x7f0d7a970eb2]\n",
            "  [bt] (2) /usr/local/lib/python3.8/dist-packages/xgboost/./lib/libxgboost.so(xgboost::LearnerImpl::LazyInitModel()+0x48a) [0x7f0d7a8060ba]\n",
            "  [bt] (3) /usr/local/lib/python3.8/dist-packages/xgboost/./lib/libxgboost.so(XGBoosterUpdateOneIter+0x52) [0x7f0d7a76dac2]\n",
            "  [bt] (4) /usr/lib/x86_64-linux-gnu/libffi.so.6(ffi_call_unix64+0x4c) [0x7f0d94529dae]\n",
            "  [bt] (5) /usr/lib/x86_64-linux-gnu/libffi.so.6(ffi_call+0x22f) [0x7f0d9452971f]\n",
            "  [bt] (6) /usr/lib/python3.8/lib-dynload/_ctypes.cpython-38-x86_64-linux-gnu.so(_ctypes_callproc+0x8ce) [0x7f0d9473f34e]\n",
            "  [bt] (7) /usr/lib/python3.8/lib-dynload/_ctypes.cpython-38-x86_64-linux-gnu.so(+0xe4e4) [0x7f0d9473a4e4]\n",
            "  [bt] (8) /usr/bin/python3(_PyObject_MakeTpCall+0x34c) [0x5d8d8c]\n",
            "\n",
            "\n",
            "\n",
            "  warnings.warn(some_fits_failed_message, FitFailedWarning)\n",
            "/usr/local/lib/python3.8/dist-packages/sklearn/model_selection/_search.py:969: UserWarning: One or more of the test scores are non-finite: [0.91049548 0.91054546 0.90306045 ...        nan        nan        nan]\n",
            "  warnings.warn(\n"
          ]
        },
        {
          "output_type": "stream",
          "name": "stdout",
          "text": [
            "Best score: 0.9378496945477547\n",
            "Best score: {'base_score': 0.2, 'booster': 'gbtree', 'gamma': 0, 'learning_rate': 0.1, 'n_estimators': 500, 'reg_alpha': 0, 'reg_lambda': 0.5}\n"
          ]
        }
      ]
    },
    {
      "cell_type": "code",
      "source": [
        "params = {\n",
        "    'n_estimators': [100, 200, 500],\n",
        "    'criterion': ['gini', 'entropy'],\n",
        "    'min_samples_split': [1,2,4,5],\n",
        "    'min_samples_leaf': [1,2,4,5],\n",
        "    'max_leaf_nodes': [4,10,20,50,None]\n",
        "}\n",
        "\n",
        "gs3 = GridSearchCV(ExtraTreesClassifier(n_jobs=-1), params, n_jobs=-1, cv=KFold(n_splits=3), scoring='roc_auc')\n",
        "gs3.fit(X_train, y_train)\n",
        "\n",
        "print('Best score:', gs3.best_score_)\n",
        "print('Best score:', gs3.best_params_)"
      ],
      "metadata": {
        "colab": {
          "base_uri": "https://localhost:8080/"
        },
        "id": "aSGS-KIa4zet",
        "outputId": "0de7593e-ee8d-4532-8b16-501e9a9b4a61"
      },
      "execution_count": 70,
      "outputs": [
        {
          "output_type": "stream",
          "name": "stderr",
          "text": [
            "/usr/local/lib/python3.8/dist-packages/sklearn/model_selection/_validation.py:372: FitFailedWarning: \n",
            "360 fits failed out of a total of 1440.\n",
            "The score on these train-test partitions for these parameters will be set to nan.\n",
            "If these failures are not expected, you can try to debug them by setting error_score='raise'.\n",
            "\n",
            "Below are more details about the failures:\n",
            "--------------------------------------------------------------------------------\n",
            "360 fits failed with the following error:\n",
            "Traceback (most recent call last):\n",
            "  File \"/usr/local/lib/python3.8/dist-packages/sklearn/model_selection/_validation.py\", line 680, in _fit_and_score\n",
            "    estimator.fit(X_train, y_train, **fit_params)\n",
            "  File \"/usr/local/lib/python3.8/dist-packages/sklearn/ensemble/_forest.py\", line 450, in fit\n",
            "    trees = Parallel(\n",
            "  File \"/usr/local/lib/python3.8/dist-packages/joblib/parallel.py\", line 1098, in __call__\n",
            "    self.retrieve()\n",
            "  File \"/usr/local/lib/python3.8/dist-packages/joblib/parallel.py\", line 975, in retrieve\n",
            "    self._output.extend(job.get(timeout=self.timeout))\n",
            "  File \"/usr/lib/python3.8/multiprocessing/pool.py\", line 771, in get\n",
            "    raise self._value\n",
            "  File \"/usr/lib/python3.8/multiprocessing/pool.py\", line 125, in worker\n",
            "    result = (True, func(*args, **kwds))\n",
            "  File \"/usr/local/lib/python3.8/dist-packages/joblib/_parallel_backends.py\", line 620, in __call__\n",
            "    return self.func(*args, **kwargs)\n",
            "  File \"/usr/local/lib/python3.8/dist-packages/joblib/parallel.py\", line 288, in __call__\n",
            "    return [func(*args, **kwargs)\n",
            "  File \"/usr/local/lib/python3.8/dist-packages/joblib/parallel.py\", line 288, in <listcomp>\n",
            "    return [func(*args, **kwargs)\n",
            "  File \"/usr/local/lib/python3.8/dist-packages/sklearn/utils/fixes.py\", line 216, in __call__\n",
            "    return self.function(*args, **kwargs)\n",
            "  File \"/usr/local/lib/python3.8/dist-packages/sklearn/ensemble/_forest.py\", line 187, in _parallel_build_trees\n",
            "    tree.fit(X, y, sample_weight=sample_weight, check_input=False)\n",
            "  File \"/usr/local/lib/python3.8/dist-packages/sklearn/tree/_classes.py\", line 937, in fit\n",
            "    super().fit(\n",
            "  File \"/usr/local/lib/python3.8/dist-packages/sklearn/tree/_classes.py\", line 250, in fit\n",
            "    raise ValueError(\n",
            "ValueError: min_samples_split must be an integer greater than 1 or a float in (0.0, 1.0]; got the integer 1\n",
            "\n",
            "  warnings.warn(some_fits_failed_message, FitFailedWarning)\n",
            "/usr/local/lib/python3.8/dist-packages/sklearn/model_selection/_search.py:969: UserWarning: One or more of the test scores are non-finite: [       nan        nan        nan 0.91776    0.91813341 0.91884206\n",
            " 0.91625944 0.92110617 0.91686488 0.91958837 0.9192793  0.91760446\n",
            "        nan        nan        nan 0.92322794 0.91896351 0.91931485\n",
            " 0.91818007 0.91596964 0.91892677 0.91794171 0.91944418 0.91751679\n",
            "        nan        nan        nan 0.9175955  0.91943395 0.91867697\n",
            " 0.91828333 0.9169317  0.91932175 0.9188657  0.91796138 0.91860136\n",
            "        nan        nan        nan 0.92264824 0.91773724 0.91874691\n",
            " 0.91942056 0.91710085 0.91756805 0.92040549 0.92168907 0.91862528\n",
            "        nan        nan        nan 0.92862122 0.92982808 0.92948518\n",
            " 0.93178651 0.92892151 0.93093497 0.93052553 0.92980355 0.92877755\n",
            "        nan        nan        nan 0.92919153 0.93094742 0.93025258\n",
            " 0.93212125 0.92867808 0.93066385 0.9300909  0.9284993  0.92935584\n",
            "        nan        nan        nan 0.92962732 0.93072058 0.92954851\n",
            " 0.9276705  0.92962081 0.929039   0.92934828 0.92895197 0.92854983\n",
            "        nan        nan        nan 0.92795427 0.92809816 0.93045015\n",
            " 0.92919986 0.93017228 0.92782318 0.92905694 0.92806382 0.92907888\n",
            "        nan        nan        nan 0.93524641 0.93449864 0.93496237\n",
            " 0.93552242 0.93556904 0.93601715 0.93572119 0.93621447 0.93564271\n",
            "        nan        nan        nan 0.93417752 0.93523868 0.93512354\n",
            " 0.9342522  0.93541164 0.93458687 0.93715285 0.93555502 0.93518542\n",
            "        nan        nan        nan 0.93361215 0.93370965 0.93355486\n",
            " 0.93246644 0.93359633 0.93294518 0.93463106 0.93322575 0.93427783\n",
            "        nan        nan        nan 0.93231463 0.93309779 0.93343534\n",
            " 0.93342063 0.93304896 0.9337224  0.93441412 0.93410871 0.93401813\n",
            "        nan        nan        nan 0.9390445  0.93919741 0.9393348\n",
            " 0.93912627 0.9396848  0.93912604 0.93913181 0.93905695 0.93942977\n",
            "        nan        nan        nan 0.93819116 0.93814687 0.93848629\n",
            " 0.9378476  0.93912283 0.93841285 0.93769497 0.93813932 0.93859779\n",
            "        nan        nan        nan 0.93570811 0.93606772 0.93547925\n",
            " 0.93572484 0.9357952  0.93570484 0.93616526 0.9360785  0.93521426\n",
            "        nan        nan        nan 0.9344602  0.93487005 0.93499711\n",
            " 0.93442752 0.93443154 0.93555963 0.93540764 0.93466941 0.93492459\n",
            "        nan        nan        nan 0.93192982 0.93224543 0.9321277\n",
            " 0.93457161 0.93452401 0.93451667 0.93612201 0.93650395 0.93678417\n",
            "        nan        nan        nan 0.93731384 0.93863906 0.93807879\n",
            " 0.93761638 0.93901666 0.93829492 0.93818873 0.93830614 0.93862931\n",
            "        nan        nan        nan 0.93500681 0.93545237 0.93555809\n",
            " 0.9357001  0.93559524 0.93579487 0.93559501 0.93539581 0.93592633\n",
            "        nan        nan        nan 0.93535895 0.93492291 0.93479077\n",
            " 0.93499378 0.93399873 0.9348732  0.93491603 0.93521504 0.93532129\n",
            "        nan        nan        nan 0.92033934 0.91665954 0.91847732\n",
            " 0.91932946 0.92006085 0.91878666 0.91818468 0.91844303 0.92014613\n",
            "        nan        nan        nan 0.91343385 0.92139894 0.91871853\n",
            " 0.92454939 0.92107117 0.92092058 0.92013751 0.92055927 0.9208043\n",
            "        nan        nan        nan 0.91577614 0.91786283 0.9196454\n",
            " 0.92525141 0.91754744 0.92143965 0.91790432 0.91598335 0.92072753\n",
            "        nan        nan        nan 0.91929804 0.92252365 0.92258837\n",
            " 0.92362756 0.91594628 0.91928539 0.92200905 0.9186246  0.92063332\n",
            "        nan        nan        nan 0.92937039 0.93003087 0.92890417\n",
            " 0.92820034 0.92977548 0.92964347 0.93031298 0.92936481 0.93003333\n",
            "        nan        nan        nan 0.92998326 0.93052787 0.92901711\n",
            " 0.93000872 0.9297016  0.93069168 0.93089787 0.93028282 0.9295686\n",
            "        nan        nan        nan 0.92949227 0.92855324 0.92949921\n",
            " 0.9296624  0.92994125 0.92906155 0.92951499 0.92972038 0.92877771\n",
            "        nan        nan        nan 0.93015378 0.92753722 0.92941982\n",
            " 0.9282318  0.92827337 0.9296527  0.93048375 0.92922503 0.92852792\n",
            "        nan        nan        nan 0.93564138 0.93488962 0.93464668\n",
            " 0.93496362 0.93371287 0.93508153 0.93704769 0.9347184  0.93514511\n",
            "        nan        nan        nan 0.93583077 0.93507899 0.93446241\n",
            " 0.93489623 0.93484455 0.93364578 0.93556547 0.93385137 0.93444516\n",
            "        nan        nan        nan 0.93267021 0.93312389 0.93336241\n",
            " 0.93314343 0.93411236 0.93326414 0.93229394 0.93276086 0.93273056\n",
            "        nan        nan        nan 0.93332356 0.93317097 0.93291369\n",
            " 0.93246311 0.93309254 0.93282078 0.93383723 0.93217106 0.93311914\n",
            "        nan        nan        nan 0.93900912 0.93896533 0.93835704\n",
            " 0.93847778 0.93901424 0.9384634  0.93852212 0.93798808 0.93926848\n",
            "        nan        nan        nan 0.93800679 0.93767797 0.93828138\n",
            " 0.93822803 0.93747007 0.93784526 0.93817937 0.9378498  0.93770869\n",
            "        nan        nan        nan 0.93544017 0.93521387 0.93636545\n",
            " 0.93527032 0.93540336 0.93565971 0.93581441 0.93544179 0.93529185\n",
            "        nan        nan        nan 0.93455139 0.93491174 0.93582933\n",
            " 0.93510571 0.93588464 0.93495409 0.93510272 0.93492483 0.93586682\n",
            "        nan        nan        nan 0.93175931 0.93215682 0.93236856\n",
            " 0.9342387  0.93438124 0.93462372 0.93605991 0.93646232 0.93637337\n",
            "        nan        nan        nan 0.93785119 0.93802123 0.93849092\n",
            " 0.93825464 0.93782665 0.9388106  0.93778458 0.93848728 0.93864926\n",
            "        nan        nan        nan 0.93508451 0.93536965 0.93600192\n",
            " 0.93584719 0.93553985 0.93544356 0.93531328 0.93606788 0.93593971\n",
            "        nan        nan        nan 0.93504056 0.93441354 0.93514634\n",
            " 0.93550055 0.93476327 0.93513583 0.93510428 0.93544019 0.93542394]\n",
            "  warnings.warn(\n"
          ]
        },
        {
          "output_type": "stream",
          "name": "stdout",
          "text": [
            "Best score: 0.9396847991944283\n",
            "Best score: {'criterion': 'gini', 'max_leaf_nodes': 50, 'min_samples_leaf': 1, 'min_samples_split': 4, 'n_estimators': 200}\n"
          ]
        }
      ]
    },
    {
      "cell_type": "markdown",
      "source": [
        "## ENSEMBLE MODEL"
      ],
      "metadata": {
        "id": "mFg3QcrheGTi"
      }
    },
    {
      "cell_type": "code",
      "source": [
        "from sklearn.model_selection import cross_validate\n",
        "from sklearn.ensemble import VotingClassifier\n",
        "\n",
        "votes = [\n",
        "    ('mlp', gs1.best_estimator_),\n",
        "    ('xgb', gs2.best_estimator_),\n",
        "    ('xt', gs3.best_estimator_)\n",
        "]\n",
        "\n",
        "# soft voting based on weights\n",
        "votesClass = VotingClassifier(estimators=votes, voting='soft', n_jobs=-1)\n",
        "votesClass_cv = cross_validate(votesClass, X_train, y_train, cv=KFold(n_splits=3))\n",
        "votesClass.fit(X_train, y_train)\n",
        "\n",
        "votesClass_cv\n"
      ],
      "metadata": {
        "colab": {
          "base_uri": "https://localhost:8080/"
        },
        "id": "_drf3wR38y03",
        "outputId": "f95ffe23-227e-449c-cd25-8428b5ac932c"
      },
      "execution_count": 71,
      "outputs": [
        {
          "output_type": "execute_result",
          "data": {
            "text/plain": [
              "{'fit_time': array([1.26642299, 1.23219728, 1.24023175]),\n",
              " 'score_time': array([0.09747481, 0.08485913, 0.08690739]),\n",
              " 'test_score': array([0.87875, 0.8575 , 0.86375])}"
            ]
          },
          "metadata": {},
          "execution_count": 71
        }
      ]
    },
    {
      "cell_type": "code",
      "source": [
        "from sklearn.ensemble import ExtraTreesClassifier\n",
        "\n",
        "model = votesClass\n",
        "model.fit(X_train, y_train)\n",
        "y_train_hat = model.predict(X_train)\n",
        "y_test_hat = model.predict(X_test)\n",
        "\n",
        "print(model)\n",
        "print('Train performance')\n",
        "print('-------------------------------------------------------')\n",
        "print(classification_report(y_train, y_train_hat))\n",
        "\n",
        "print('Test performance')\n",
        "print('-------------------------------------------------------')\n",
        "print(classification_report(y_test, y_test_hat))\n",
        "\n",
        "print('Roc_auc score')\n",
        "print('-------------------------------------------------------')\n",
        "print(roc_auc_score(y_test, y_test_hat))\n",
        "print('')\n",
        "\n",
        "print('Confusion matrix')\n",
        "print('-------------------------------------------------------')\n",
        "print(confusion_matrix(y_test, y_test_hat))"
      ],
      "metadata": {
        "colab": {
          "base_uri": "https://localhost:8080/"
        },
        "id": "4SaERkn996de",
        "outputId": "d4ea4ce0-0886-4a50-e315-82c960553843"
      },
      "execution_count": 72,
      "outputs": [
        {
          "output_type": "stream",
          "name": "stdout",
          "text": [
            "VotingClassifier(estimators=[('mlp',\n",
            "                              MLPClassifier(alpha=0.1,\n",
            "                                            hidden_layer_sizes=(10, 30, 10),\n",
            "                                            max_iter=100)),\n",
            "                             ('xgb',\n",
            "                              XGBClassifier(base_score=0.2, n_estimators=500,\n",
            "                                            n_jobs=-1, reg_lambda=0.5)),\n",
            "                             ('xt',\n",
            "                              ExtraTreesClassifier(max_leaf_nodes=50,\n",
            "                                                   min_samples_split=4,\n",
            "                                                   n_estimators=200,\n",
            "                                                   n_jobs=-1))],\n",
            "                 n_jobs=-1, voting='soft')\n",
            "Train performance\n",
            "-------------------------------------------------------\n",
            "              precision    recall  f1-score   support\n",
            "\n",
            "           0       0.81      0.98      0.89      1198\n",
            "           1       0.97      0.78      0.86      1202\n",
            "\n",
            "    accuracy                           0.88      2400\n",
            "   macro avg       0.89      0.88      0.88      2400\n",
            "weighted avg       0.89      0.88      0.88      2400\n",
            "\n",
            "Test performance\n",
            "-------------------------------------------------------\n",
            "              precision    recall  f1-score   support\n",
            "\n",
            "           0       0.80      0.98      0.88       302\n",
            "           1       0.97      0.76      0.85       298\n",
            "\n",
            "    accuracy                           0.87       600\n",
            "   macro avg       0.89      0.87      0.87       600\n",
            "weighted avg       0.89      0.87      0.87       600\n",
            "\n",
            "Roc_auc score\n",
            "-------------------------------------------------------\n",
            "0.8675830036890528\n",
            "\n",
            "Confusion matrix\n",
            "-------------------------------------------------------\n",
            "[[296   6]\n",
            " [ 73 225]]\n"
          ]
        }
      ]
    },
    {
      "cell_type": "code",
      "source": [
        "acc_train_hat = accuracy_score(y_train,y_train_hat)\n",
        "acc_test_hat = accuracy_score(y_test,y_test_hat)\n",
        "\n",
        "print(\"VOTE: Accuracy on training Data: {:.3f}\".format(acc_train_hat))\n",
        "print(\"VOTE: Accuracy on test Data: {:.3f}\".format(acc_test_hat))"
      ],
      "metadata": {
        "colab": {
          "base_uri": "https://localhost:8080/"
        },
        "id": "eIkGcFlTkv3a",
        "outputId": "e34b9c61-a0d7-4283-c0f5-f498af541ae7"
      },
      "execution_count": 74,
      "outputs": [
        {
          "output_type": "stream",
          "name": "stdout",
          "text": [
            "VOTE: Accuracy on training Data: 0.877\n",
            "VOTE: Accuracy on test Data: 0.868\n"
          ]
        }
      ]
    },
    {
      "cell_type": "code",
      "source": [
        "print(\"VOTE: Accuracy on training Data: {:.3f}\".format(acc_train_hat))\n",
        "print(\"VOTE : Accuracy on test Data: {:.3f}\".format(acc_test_hat))"
      ],
      "metadata": {
        "colab": {
          "base_uri": "https://localhost:8080/"
        },
        "id": "7cFo9BKm--Yu",
        "outputId": "52499fcb-77ca-422c-a38f-7aa9a9e185d5"
      },
      "execution_count": 75,
      "outputs": [
        {
          "output_type": "stream",
          "name": "stdout",
          "text": [
            "VOTE: Accuracy on training Data: 0.877\n",
            "VOTE : Accuracy on test Data: 0.868\n"
          ]
        }
      ]
    },
    {
      "cell_type": "markdown",
      "source": [
        "SAVING AND TESTING THE MODEL"
      ],
      "metadata": {
        "id": "aqlXHVcNgse9"
      }
    },
    {
      "cell_type": "code",
      "source": [
        "import pickle\n",
        "pickle.dump(gs2, open(\"XGBoostClassifier.pickle.dat\", \"wb\"))\n",
        "\n",
        "# load model from file\n",
        "loaded_model = pickle.load(open(\"XGBoostClassifier.pickle.dat\", \"rb\"))\n",
        "loaded_model\n",
        "     "
      ],
      "metadata": {
        "id": "yTC8hodq2IZE",
        "colab": {
          "base_uri": "https://localhost:8080/"
        },
        "outputId": "705d3048-8da9-4de3-cdd5-75cd1bb62282"
      },
      "execution_count": 76,
      "outputs": [
        {
          "output_type": "execute_result",
          "data": {
            "text/plain": [
              "GridSearchCV(cv=KFold(n_splits=3, random_state=None, shuffle=False),\n",
              "             estimator=XGBClassifier(missing=nan, n_jobs=-1), n_jobs=-1,\n",
              "             param_grid={'base_score': [0.2, 0.5, 1],\n",
              "                         'booster': ['gbtree', 'gblinear'],\n",
              "                         'gamma': [0, 0.5, 1],\n",
              "                         'learning_rate': [0.01, 0.05, 0.1],\n",
              "                         'n_estimators': [100, 200, 500],\n",
              "                         'reg_alpha': [0, 0.5, 1], 'reg_lambda': [0.5, 1, 5]},\n",
              "             scoring='roc_auc')"
            ]
          },
          "metadata": {},
          "execution_count": 76
        }
      ]
    }
  ]
}